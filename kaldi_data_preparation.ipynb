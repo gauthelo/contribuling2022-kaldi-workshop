{
 "cells": [
  {
   "cell_type": "markdown",
   "id": "0d944429",
   "metadata": {},
   "source": [
    "# Préparation des données pour construire un système de reconnaissance automatique de la parole avec Kaldi"
   ]
  },
  {
   "cell_type": "markdown",
   "id": "e0e8fad2",
   "metadata": {
    "heading_collapsed": true
   },
   "source": [
    "## Avant-propos : fondamentaux de la Reconnaissance automatique de la parole"
   ]
  },
  {
   "cell_type": "markdown",
   "id": "add0bae0",
   "metadata": {
    "hidden": true
   },
   "source": [
    "### Principe de l'approche traditionnelle\n",
    "\n",
    "Un système de reconnaissance automatique de la parole (ASR pour Automatic Speech Recognition en anglais) est principalement utilisé pour **transcrire un flux de parole** (convertir une séquence orale en une séquence écrite).\n",
    "\n",
    "La tâche que doit réaliser le système est donc la suivante : trouver la suite de mot la plus probable correspondant au signal acoustique continu reçu en entrée.    \n",
    "\n",
    "Pour pouvoir faire ça, on utilise des modèles statistiques : un **modèle acoustique** qui permet de reconnaître les sons de la langue, un **modèle de langue** qui sert à connaître les suites de mots probables dans la langue et un **dictionnaire de prononciation** qui permet de savoir comment un mot se prononce dans la langue traitée.\n",
    "\n",
    "**Afin d'implémenter un système performant, il est fortement recommandé que ces ressources soient validées par un expert linguiste natif de la langue.**"
   ]
  },
  {
   "cell_type": "markdown",
   "id": "b93844d4",
   "metadata": {
    "hidden": true
   },
   "source": [
    "### Modèle acoustique\n",
    "Un modèle acoustique est calculé à partir d'enregistrements de parole, transcrits ou non.\n",
    "Un corpus de parole qui contient un ensemble d'enregistrements de parole et leurs transcriptions permet d'entraîner un modèle acoustique de façon **supervisée**.    \n",
    "\n",
    "Les modèles acoustiques sont des modèles statistiques qui permettent d'estimer une suite de phonèmes à partir d’un flux continu de parole prononcée, préalablement segmenté en trames acoustiques. \n",
    "Les modèles hybrides à base de réseaux de neurones et de modèles de Markov cachés (CD-DNN-HMM) sont aujourd'hui couramment utilisés pour modéliser les sons d'une langue et produire la séquence de mots la plus probable. \n",
    "Avant l'intégration de réseaux de neurones, la modélisation acoustique était calculée à partir d'un mélange de gaussiennes (GMM pour Gaussian Mixture Model en anglais).    \n",
    "\n",
    "Pour apprendre un modèle acoustique, il faut :\n",
    " - un **corpus de parole** qui se compose d'un ensemble de fichier audio dans lesquels des locuteurs natifs parlent (1 loc/fic) et leur version écrite (les transcriptions de ce qui est dit), \n",
    " - un **dictionnaire de prononciation** qui contient un mot suivi de sa transcription phonétique (permet de représenter à l’aide de symboles lisibles par l'ordinateur la façon dont se prononce un mot)\n",
    "\n",
    "#### Corpus de parole\n",
    "\n",
    "Le corpus de parole doit contenir :\n",
    " -  des enregistrements audio d’énoncés lus ou exprimés de façon spontanée par des personnes sachant parler aisément dans la langue travaillée,\n",
    " -  les versions écrites de ces enregistrements (leurs transcriptions).     \n",
    "\n",
    "##### Note sur les transcriptions\n",
    "Les transcriptions sont généralement orthographiques.     \n",
    "En principe, elles n'ont pas besoin d'être alignées avec les enregistrements car des études ont montrées que le moteur de reconnaissance vocale est capable de réaliser cette action avec précision.    \n",
    "Néanmoins, si cette étape peut être réalisée, le jeu de données n'en sera que plus complet et mieux exploitable.      \n",
    "Les mots de la transcription doivent être lexicalement justes : par exemple, si l'utilisateur dit le mot « menu » mais prononce [məny] au lieu de [møny] (c’est-à-dire en omettant de prononcer le son « eu » [ø]), la transcription doit quand même être « menu » et non « mnu » ou « m’nu ».     \n",
    "Lorsque qu'aucune règle officielle ne régit l'orthographe de la langue à transcrire, des règles devront être mises en place au préalable ou alors la transcription sera réalisée en symboles phonétiques (segmentée néanmoins en mots)."
   ]
  },
  {
   "cell_type": "markdown",
   "id": "388c7d2f",
   "metadata": {
    "hidden": true
   },
   "source": [
    "### Modèle de langue\n",
    "L'étape de modélisation de la langue est réalisé à partir de **corpus de textes**, aussi variés que possible, dans la langue cible (pour le cas d'un système monolingue).    \n",
    "\n",
    "Les modèles de langue massivement utilisés sont des modèles statistiques.     \n",
    "Ils permettent de mieux reconnaître la séquence de mots la plus pertinente.      \n",
    "Ils sont élaborés à partir de lois de probabilités conditionnelles qui servent à calculer les probabilités d'apparition successive des mots dans la langue.     \n",
    "Le modèle de langue dépend directement de la langue à reconnaître, notamment de sa grammaire.    \n",
    "\n",
    "Un modèle n-gramme utilise des distributions de probabilités pour prédire les mots.     \n",
    "La notion de *gramme* correspond à une unité qui est ici le mot (mais ce pourrait être une lettre ou une syllabe par exemple).     \n",
    "L'indice *n* correspond à la longueur de la chaîne (de mots) qui va être modélisée.     \n",
    "Par exemple, un modèle 5-grammes signifie que le modèle est capable d’estimer la probabilité d’apparition d’un mot sachant la séquence de 1 à 4 mots qui le précède.    \n",
    "\n",
    "#### Quels outils pour l'estimation d'un modèle de langue ?\n",
    "Pour estimer un modèle de langue, les outils les plus utilisés dans la communauté sont :\n",
    " - [SRILM](http://www.speech.sri.com/projects/srilm/) (gratuit mais licence réservée aux étudiants et académiques)\n",
    " - [KenLM](https://github.com/kpu/kenlm)\n",
    " - [MITLM](https://code.google.com/p/mitlm/)\n",
    " \n",
    "##### n-gramme ou réseau neuronal ?\n",
    "Bien que les Transformer soient les architectures à l'état-de-l'art aujourd'hui, des travaux ont montré, encore récemment, que les n-grammes sont plus adataptés que les réseaux de neurones pour modéliser de petits corpus (cas des langues peu dotées). Les n-grammes sont rapides et moins energivores à estimer sur un petit corpus (moins de 100 millions de mots)."
   ]
  },
  {
   "cell_type": "markdown",
   "id": "5e15fe34",
   "metadata": {
    "hidden": true
   },
   "source": [
    "### Dictionnaire de prononciation\n",
    "\n",
    "\n",
    "Le dictionnaire de prononciation réunit des mots et leurs prononciations.     \n",
    "Les prononciations sont représentées par une suite de symboles phonétiques qui servent à décrire les sons de la langue.    \n",
    "\n",
    "Le dictionnaire de prononciation joue un rôle essentiel dans l'approche traditionnelle de la reconnaissance automatique de la parole car c'est lui qui permet de faire le lien entre la forme de surface d'un mot et sa représentation phonétique.     \n",
    "\n",
    "Le dictionnaire est utilisé par deux fois :\n",
    " - une première fois, durant l'étape d'apprentissage : il permet de construire des modèles acoustiques en associant les représentations acoustiques de chaque unité lexicale avec leurs symboles phonétiques,\n",
    " - une deuxième fois, lors de l'étape de décodage : il est conjointement utilisé avec le modèle de langue et le modèle acoustique pour transcrire un signal inconnu.\n",
    "\n",
    "#### Quels alphabet phonétique utiliser pour encoder les prononciations ?\n",
    "Différents jeux de transcriptions phonétiques peuvent être utilisés pour phonétiser les mots (cf: https://en.wikipedia.org/wiki/Comparison_of_ASCII_encodings_of_the_International_Phonetic_Alphabet#Symbols).    \n",
    "Pour en citer rapidement quelques-uns que l'on retrouve dans les corpus de parole : \n",
    " - [l'Alphabet Phonétique International](https://fr.wikipedia.org/wiki/Alphabet_phon%C3%A9tique_international) (IPA en anglais) \n",
    " - [le SAMPA](https://fr.wikipedia.org/wiki/X-SAMPA)\n",
    " - [l'ARPAbet](https://en.wikipedia.org/wiki/ARPABET)    \n",
    "    \n",
    "Choisissez celui qui modélise le mieux la ou les langues cible de votre système.\n",
    "\n",
    "\n",
    "\n",
    "#### Compléter un dictionnaire existant\n",
    "Pour ajouter du vocabulaire à votre dictionnaire, on peut utiliser un phonétiseur graphème-à-phonème (G2P).    \n",
    "Si vous êtes confiants de la qualité du dictionnaire de prononciation que vous possédez déjà, vous pouvez entraîner un modèle G2P à partir de ce dictionnaire, puis appliquer ce modèle à votre nouvelle liste de mots. Il en résultera un nouveau fichier avec vos mots suivis de leur transcription phonétique.     \n",
    "Exemple d'outil : [Phonetisaurus](https://github.com/AdolfVonKleist/Phonetisaurus)"
   ]
  },
  {
   "cell_type": "markdown",
   "id": "35754ae2",
   "metadata": {
    "heading_collapsed": true,
    "hidden": true
   },
   "source": [
    "### Entraînement et décodage"
   ]
  },
  {
   "cell_type": "markdown",
   "id": "c8a77c6c",
   "metadata": {
    "hidden": true
   },
   "source": [
    "#### Entraînement \n",
    "Pour l'entraînement du système, 80 à 90% du corpus de parole est généralement utilisé.    \n",
    "Dans le cas d'un entraînement supervisé, le but est que le système apprenne successivement, à partir des exemples fournis dans ce sous-ensemble sélectionné, qu'une séquence de trames acoustiques correspond à une séquence de phones, qui elle-même représente un phonème et enfin qu'une séquence de phonèmes forme un mot.     \n",
    "Dans l'approche traditionnelle, un modèle de langue est couplé en sortie du modèle acoustique pour prédire la séquence de mot la plus probablement prononcée.\n",
    "\n",
    "**À noter :** L'apprentissage de réseaux neuronaux est très gourmand en calcul et nécessite bien souvent l'utilisation de **processeurs graphiques (GPU)**, même lorsque le volume de données en entrée du réseau est faible.\n",
    "\n",
    "#### Décodage\n",
    "Les 10 à 20% du corpus de parole restants sont généralement utilisés pour le décodage.     \n",
    "Le décodage est une étape compliquée car, dans le cas de la reconnaissance de parole continue (on parle aussi de système de reconnaissance à grand vocabulaire, LVCSR pour Large Vocabulary Continuous Speech Recognition en anglais), la segmentation des phrases en phonèmes ou le nombre de phonèmes dans chaque phrase n'est pas connu.    \n",
    "\n",
    "Le but du décodage est que le système trouve la meilleure transcription pour un enregitrement donné.     \n",
    "Techniquement, le problème que le système doit résoudre est de retrouver la séquence d'états qui a produit les observations données. À partir de cette séquence d'états, il est facile trouver la suite de phonèmes la plus probable qui correspond aux paramètres observés.    \n",
    "Le modèle de langue et le dictionnaire de prononciation sont exploités au moment du décodage par l'algorithme de recherche de Viterbi afin de trouver dans le graphe d'états le chemin optimal qui correspond à la séquence de phonème prononcée.\n",
    "\n",
    "##### Évaluation du système\n",
    "Le système est évalué grâce à une métrique appelée Taux d'Erreur Mots (WER pour Word Error Rate en anglais).       \n",
    "Une distance est calculée entre la transcription produite par le système (appelée « hypothèse ») et la transcription originale de l'enregistrement décodé (appelée « référence »).     \n",
    "Dérivé de la distance de Levenshtein, ce calcul compare un à un les mots de la référence et de l'hypothèse, sur un axe vertical.    \n",
    "C’est en divisant la somme des erreurs d'édition (substitution, insertion et omission) par le nombre total de mots de la référence que l’on obtient le WER de la séquence de mots à reconnaître.     \n",
    "**Plus ce taux est faible, meilleure est la reconnaissance.**"
   ]
  },
  {
   "cell_type": "markdown",
   "id": "0bb92ae2",
   "metadata": {
    "heading_collapsed": true
   },
   "source": [
    "## Documentations utiles\n"
   ]
  },
  {
   "cell_type": "markdown",
   "id": "34e7a0b1",
   "metadata": {
    "ExecuteTime": {
     "end_time": "2022-04-19T16:28:00.962239Z",
     "start_time": "2022-04-19T16:28:00.954483Z"
    },
    "hidden": true
   },
   "source": [
    "##### Tutoriel de prise en main de Kaldi\n",
    "https://kaldi-asr.org/doc/kaldi_for_dummies.html\n",
    "##### Prépration des données expliquée en détail\n",
    "https://kaldi-asr.org/doc/data_prep.html \n",
    "##### Autre site expliquant la préparation des données et les premiers scripts d'apprentissage, d'alignement et de décodage\n",
    "https://www.eleanorchodroff.com/tutorial/kaldi/training-acoustic-models.html#prepare-directories"
   ]
  },
  {
   "cell_type": "markdown",
   "id": "a943ab8e",
   "metadata": {
    "heading_collapsed": true
   },
   "source": [
    "## Pré-requis"
   ]
  },
  {
   "cell_type": "markdown",
   "id": "6b508e6a",
   "metadata": {
    "hidden": true
   },
   "source": [
    "#### Bibliothèques qui doivent être installées sur votre machine Linux\n",
    "   \n",
    "**autoconf** - utilitaire utilisé pour la compilation des outils qui seront utilisés dans Kaldi    \n",
    "**automake** - associé à autoconf, il permet de générer des fichiers Makefile portables    \n",
    "**make** - outil qui permet d'automatiser la compilation du code source de Kaldi (à partir de la config du Makefile)\n",
    "**git** - gestionnaire de versions décentralisé  utilisé pour le téléchargement et l'installation de Kaldi \n",
    "**subversion** - svn, gestionnaire de versions utilisé pour le téléchargement du dépôt ALFFA/WOLOF\n",
    "**libtool** - utilitaire de création de bibliothèques statiques et dynamiques       \n",
    "**wget** - permet de transférer des données à l'aide des protocoles HTTP, HTTPS et FTP    \n",
    "**zlib** - utilitaire de compression de données      \n",
    "**bash** - shell utilisé par Kaldi   \n",
    "**grep** - utilitaire de ligne de commande permettant de rechercher dans des ensembles de données en texte brut les lignes correspondant à une expression (régulière ou non)    \n",
    "**perl** - langage de programmation dynamique, utilisé dans les scripts Kaldi pour le traitement des fichiers texte  \n",
    "**awk** - langage de programmation utilisé pour la recherche et le traitement de motifs dans les fichiers et les flux de données     \n",
    "**atlas** - automatisation et optimisation des calculs dans le domaine de l'algèbre linéaire\n",
    "\n",
    "```bash\n",
    "sudo apt-get install -y autoconf automake make cmake git subversion\\\n",
    "        libtool wget zlib1g-dev libatlas-base-dev libatlas-dev\\\n",
    "        liblapack-dev sox libsox-fmt-all\n",
    "```\n",
    "*Il est possible qu'elles soient déjà installées par défaut avec votre distribution (Ubuntu conseillé)*"
   ]
  },
  {
   "cell_type": "code",
   "execution_count": null,
   "id": "542907d4",
   "metadata": {
    "hidden": true
   },
   "outputs": [],
   "source": [
    "# sudo apt-get install -y autoconf automake make cmake git subversion\\\n",
    "#        libtool wget zlib1g-dev libatlas-base-dev libatlas-dev\\\n",
    "#        liblapack-dev sox libsox-fmt-all"
   ]
  },
  {
   "cell_type": "markdown",
   "id": "e49bea28",
   "metadata": {
    "heading_collapsed": true
   },
   "source": [
    "## Installation de Kaldi"
   ]
  },
  {
   "cell_type": "markdown",
   "id": "735c9cea",
   "metadata": {
    "hidden": true
   },
   "source": [
    "### Télécharger les sources\n",
    "Aller sur https://github.com/kaldi-asr/kaldi    \n",
    "Cliquer sur le bouton vert \"Code\", puis :\n",
    " - soit télécharger l'archive ZIP à l'endroit désiré et la décompresser avec votre outil préféré\n",
    " - soit cloner le dépôt \n",
    " ```bash \n",
    " git clone https://github.com/kaldi-asr/kaldi.git kaldi --origin upstream\n",
    " ```\n",
    " \n",
    "### Lancer l'installation\n",
    "Ouvrir un terminal (shell Bash) puis taper les commandes suivantes :\n",
    "```bash\n",
    "cd kaldi\n",
    "mkdir -p build && cd build\n",
    "cmake -GNinja -DCMAKE_INSTALL_PREFIX=../dist ..\n",
    "cmake --build . --target install\n",
    "```\n",
    "*Pour plus d'information sur la compilation de Kaldi, voir https://kaldi-asr.org/doc/build_setup.html*\n",
    "\n",
    "\n",
    "### Contenu du répetoire principal : kaldi\n",
    "**egs** - répertoire des recettes (exemples de scripts) permettant de construire rapidement des systèmes ASR    \n",
    "**misc** - répertoire fourre-tout, non pertinent pour ce tuto    \n",
    "**src** - code source de Kaldi    \n",
    "**tools** - composants utiles et outils externes    \n",
    "**windows** - outils pour exécuter Kaldi sous Windows    (non recommandé)"
   ]
  },
  {
   "cell_type": "markdown",
   "id": "4b8e404d",
   "metadata": {
    "heading_collapsed": true
   },
   "source": [
    "## Les recettes\n",
    "Si vous avez installé Kaldi à la racine de votre espace personnel, les recettes se trouveront alors dans : ```/home/${user}/kaldi/egs```     \n",
    "Pour voir toutes les recettes proposées dans Kaldi :\n",
    "```bash \n",
    "ls ~/kaldi/egs/\n",
    "```\n",
    "Dans ce tutoriel, nous utiliserons la recette qui se trouve dans le répertoire ```wsj/s5```.\n",
    "\n",
    "<img src=\"misc/s5_dir_tree.png\" width=400 height=400>"
   ]
  },
  {
   "cell_type": "markdown",
   "id": "f19bd9fa",
   "metadata": {
    "hidden": true
   },
   "source": [
    "### Liste des éléments du répertoire wsj/s5"
   ]
  },
  {
   "cell_type": "code",
   "execution_count": null,
   "id": "5d63fda9",
   "metadata": {
    "hidden": true
   },
   "outputs": [],
   "source": [
    "%ls ~/kaldi/egs/wsj/s5/"
   ]
  },
  {
   "cell_type": "markdown",
   "id": "ff8b0d27",
   "metadata": {},
   "source": [
    "## Mise en place de l'environnement pour Kaldi\n",
    "<!-- img src=\"misc/working_dir_tree.png\"> -->"
   ]
  },
  {
   "cell_type": "markdown",
   "id": "367015e8",
   "metadata": {},
   "source": [
    "### Creation de l'environnement de travail\n",
    "Nous allons créer l'environnement de travail suivant :   \n",
    "- **kaldi_wolof_asr/ : répertoire racine**\n",
    "    - **raw/** : contiendra les sources    \n",
    "        - *speech/* : corpus de parole (enregistrements associés à leurs transcriptions orthographiques)\n",
    "        - *language/* : corpus de textes et/ou modèle de langue si déjà fourni\n",
    "        - *lexicon/* : dictionnaire de prononciation (mot suivi de sa transcription phonétique)\n",
    "    - **data/** : contiendra les données qui seront utilisées en entrée de Kaldi    \n",
    "        - *train/* : données d'entraînement\n",
    "        - *test/* : données de test\n",
    "        - *lang/* : sera créé pendant la préparation des données. Contiendra des fichiers générés à partir du dictionnaire de prononciation (modèle de prononciation, le vocabulaire, les mots hors vocabulaire, la liste des phonèmes en contexte, ...).\n",
    "            - *phones/* : fichiers relatifs à la modélisation des phones   \n",
    "            - *topo/* : topologie du modèle de prononciation   \n",
    "        - *local/* : sera créé pendant la préparation des données\n",
    "            - *lang/* : sera créé pendant la préparation des données. Contiendra des fichiers généré à partir du dictionnaire de prononciation (lexique de prononciation, liste des phonèmes, ...)\n",
    "    - **local/** : contiendra d'autres types de fichiers utiles, comme des scripts de traitement\n",
    "    - **exp/** : contiendra les données en sortie de Kaldi\n",
    "    - **steps/** : lien symbolique vers le dossier *steps/* du répertoire ```wsj/s5```\n",
    "    - **utils/** : lien symbolique vers le dossier *utils/* du répertoire ```wsj/s5```\n",
    "\n",
    "\n",
    "_Note : les dossiers **steps/** et **utils/** contiennent les scripts et utilitaires qui seront utilisés pendant la préparation des données, l'apprentissage et le décodage._"
   ]
  },
  {
   "cell_type": "code",
   "execution_count": null,
   "id": "8450d47e",
   "metadata": {},
   "outputs": [],
   "source": [
    "%%bash\n",
    "kaldi_wd=\"kaldi_wolof_asr\"  # création du répertoire racine de travail\n",
    "mkdir $kaldi_wd\n",
    "mkdir -p $kaldi_wd/raw/{speech,language,lexicon} \n",
    "mkdir -p $kaldi_wd/data/{train,test}\n",
    "mkdir -p $kaldi_wd/exp/\n",
    "mkdir -p $kaldi_wd/local/\n",
    "\n",
    "cd $kaldi_wd\n",
    "kaldi_s5=~/kaldi/egs/wsj/s5  # sous-tend que votre kaldi est installé à la racine de votre espace personnel (HOME)\n",
    "ln -s $kaldi_s5/steps  # lien symbolique vers les scripts Kaldi\n",
    "ln -s $kaldi_s5/utils  # lien symbolique vers les utilitaires Kaldi\n",
    "ln -s $kaldi_s5/conf  # lien symbolique vers le dossier de configuration des descripteurs acoustiques\n",
    "ln -s $kaldi_s5/utils/run.pl  # lien symbolique vers le script qui permet de paralléliser les jobs sur une seule et même machine\n",
    "cp $kaldi_s5/path.sh .  # fichier qui permet de mettre la variable d'environnement PATH à jour avec les chemins des outils Kaldi\n",
    "cp $kaldi_s5/cmd.sh .  # fichier qui permet de spécifier le type de distribution des jobs\n",
    "cp $kaldi_s5/run.sh .  # fichier qui contient la succession de scripts à lancer pour apprendre et décoder un modèle de reconnaissance automatique de la parole"
   ]
  },
  {
   "cell_type": "markdown",
   "id": "0212f823",
   "metadata": {},
   "source": [
    "Concernant la parallélisation des jobs, il est possible de choisir 3 types de distributions dans le fichier ```cmd.sh``` :\n",
    " - **run.pl** : pour lancer les jobs sur une seule et même machine\n",
    " - **queue.pl** : sur moteur [Sun Grid](https://en.wikipedia.org/wiki/Oracle_Grid_Engine), pour distribuer les jobs dans la queue (utilisé lorsque la machine est partagée entre plusieurs personnes)\n",
    " - **slurm.pl** : sur [SLURM](https://en.wikipedia.org/wiki/Slurm_Workload_Manager), pour distribuer les jobs dans la queue (utilisé lorsque la machine est partagée entre plusieurs personnes)\n",
    "\n",
    "L'apprentissage peut être coûteux en calcul. \n",
    "Kaldi divise les données en sous-paquets qu'ils distribuent dans des jobs lancés en parallèle.\n",
    "1 job = 1 CPU donc veillez à ne pas choisir un nombre plus élevé de jobs que de CPU disponibles.\n",
    "\n",
    "Il n'est pas non plus conseillé de faire plus de sous-paquets que le nombre de locuteurs dans vos ensembles de données.\n",
    "\n",
    "Le nombre de tâches (jobs) ou de divisions dans l'ensemble de données sera spécifié plus tard lors des étapes d'apprentissage et d'alignement. "
   ]
  },
  {
   "cell_type": "markdown",
   "id": "d2ec7fb3",
   "metadata": {},
   "source": [
    "#### Modification du fichier path.sh\n",
    "Ouvrir le fichier ```path.sh```. \n",
    " - Modifier la **ligne 1** : le chemin de la variable KALDI_ROOT afin qu'il pointe vers votre installation de Kaldi.    \n",
    "Si vous avez installé Kaldi à la racine de votre espace personnel (HOME), la variable devrait être la suivante :    \n",
    "```bash \n",
    "export KALDI_ROOT=/home/${user}/kaldi\n",
    "```    \n",
    "    \n",
    "- Modifier la **ligne 3** : ajouter le chemin ```$PWD/steps:``` dans la variable PATH.    \n",
    "La ligne doit correspondre à cela :     \n",
    "```bash \n",
    "export PATH=$PWD/steps:$PWD/utils/:$KALDI_ROOT/tools/openfst/bin:$PWD:$PATH    \n",
    "```\n",
    "    \n",
    "- Commenter la **ligne 6** : l'affectation de la valeur C à la locale de la machine n'est pas une bonne idée pour les langues utilisant un autre encodage que l'ASCII. Cela pourra provoquer des problèmes d'encodages lors du traitement des fichiers textuels.    \n",
    "___À savoir___ : *Kaldi affecte C à la variable LC_ALL pour des raisons d'optimisation lors des tris (au moment des calculs matriciels entre autres). __Si des erreurs surviennent__ au moment de l'exécution des scripts ou si vous avez un message d'erreur indiquant un problème dans l'ordre de tri, cela peut venir de cette variable commentée. __Dans ce cas-là, décommentez et relancer l'exécution.__*    \n",
    "\n",
    "\n",
    "- Ajouter une variable qui sera affectée du chemin absolu pointant vers le répertoire racine de travail, afin d'y accéder depuis n'importe quel script :\n",
    "```bash \n",
    "export WORKING_DIR=`pwd`\n",
    "```\n",
    "\n",
    "- Ajouter une variable qui sera affectée du chemin absolu pointant vers le dictionnaire de prononciation, afin d'y accéder depuis n'importe quel script :\n",
    "```bash \n",
    "export LEXICON_FILE=`pwd`/raw/lexicon/lexicon.txt\n",
    "```"
   ]
  },
  {
   "cell_type": "code",
   "execution_count": null,
   "id": "a29d50df",
   "metadata": {},
   "outputs": [],
   "source": [
    "!source path.sh"
   ]
  },
  {
   "cell_type": "markdown",
   "id": "2a2aa208",
   "metadata": {},
   "source": [
    "## Les données\n",
    "### Exemple avec le corpus wolof ALFFA (African Languages in the Field: speech Fundamentals and Automation)\n",
    "Source : [dépôt Github](https://github.com/getalp/ALFFA_PUBLIC/tree/master/ASR/WOLOF/data)"
   ]
  },
  {
   "cell_type": "markdown",
   "id": "2a8f1954",
   "metadata": {},
   "source": [
    "#### Téléchargement des données \n",
    "\n",
    "Pour cet atelier, nous travaillerons avec le dossier ```test``` du dépôt uniquement pour gagner du temps sur le téléchargement des données.    \n",
    "Les étapes de traitement pour préparer les fichiers des autres ensembles (train et dev) seront les mêmes.\n",
    "\n",
    "##### /!\\ PENSER À DÉSACTIVER VOTRE VPN POUR CETTE ÉTAPE /!\\"
   ]
  },
  {
   "cell_type": "code",
   "execution_count": 23,
   "id": "cf71040f",
   "metadata": {
    "ExecuteTime": {
     "end_time": "2022-04-21T23:23:19.490861Z",
     "start_time": "2022-04-21T23:23:18.336055Z"
    }
   },
   "outputs": [
    {
     "name": "stdout",
     "output_type": "stream",
     "text": [
      "--2022-04-22 01:23:18--  https://raw.githubusercontent.com/getalp/ALFFA_PUBLIC/master/ASR/WOLOF/kaldi-scripts/02_lexicon.sh\n",
      "Resolving proxypac.si.francetelecom.fr (proxypac.si.francetelecom.fr)... 10.192.64.10\n",
      "Connecting to proxypac.si.francetelecom.fr (proxypac.si.francetelecom.fr)|10.192.64.10|:8080... connected.\n",
      "Proxy request sent, awaiting response... 200 OK\n",
      "Length: 715 [text/plain]\n",
      "Saving to: ‘02_lexicon.sh’\n",
      "\n",
      "02_lexicon.sh       100%[===================>]     715  --.-KB/s    in 0s      \n",
      "\n",
      "2022-04-22 01:23:18 (26,7 MB/s) - ‘02_lexicon.sh’ saved [715/715]\n",
      "\n",
      "--2022-04-22 01:23:18--  https://raw.githubusercontent.com/getalp/ALFFA_PUBLIC/master/ASR/WOLOF/kaldi-scripts/03_lm_preparation.sh\n",
      "Reusing existing connection to raw.githubusercontent.com:443.\n",
      "Proxy request sent, awaiting response... 200 OK\n",
      "Length: 805 [text/plain]\n",
      "Saving to: ‘03_lm_preparation.sh’\n",
      "\n",
      "03_lm_preparation.s 100%[===================>]     805  --.-KB/s    in 0s      \n",
      "\n",
      "2022-04-22 01:23:18 (33,0 MB/s) - ‘03_lm_preparation.sh’ saved [805/805]\n",
      "\n",
      "--2022-04-22 01:23:18--  https://raw.githubusercontent.com/getalp/ALFFA_PUBLIC/master/ASR/WOLOF/kaldi-scripts/04_data_prep.sh\n",
      "Reusing existing connection to raw.githubusercontent.com:443.\n",
      "Proxy request sent, awaiting response... 200 OK\n",
      "Length: 1036 (1,0K) [text/plain]\n",
      "Saving to: ‘04_data_prep.sh’\n",
      "\n",
      "04_data_prep.sh     100%[===================>]   1,01K  --.-KB/s    in 0s      \n",
      "\n",
      "2022-04-22 01:23:19 (42,6 MB/s) - ‘04_data_prep.sh’ saved [1036/1036]\n",
      "\n",
      "FINISHED --2022-04-22 01:23:19--\n",
      "Total wall clock time: 0,7s\n",
      "Downloaded: 3 files, 2,5K in 0s (33,8 MB/s)\n"
     ]
    }
   ],
   "source": [
    "!cd kaldi_wolof_asr/raw\n",
    "# Corpus de parole\n",
    "!svn checkout https://github.com/getalp/ALFFA_PUBLIC/trunk/ASR/WOLOF/data/test\n",
    "!mv test speech/.\n",
    "# Corpus de textes et modèle de langue\n",
    "!svn checkout https://github.com/getalp/ALFFA_PUBLIC/trunk/ASR/WOLOF/data/test\n",
    "!mv LM/* language/. && rm -r LM\n",
    "# Dictionnaire de prononciation\n",
    "!wget https://raw.githubusercontent.com/getalp/ALFFA_PUBLIC/master/ASR/WOLOF/data/local/lexicon.txt\n",
    "!mv lexicon.txt lexicon/.\n",
    "# # Scripts utiles\n",
    "# !wget https://raw.githubusercontent.com/getalp/ALFFA_PUBLIC/master/ASR/WOLOF/kaldi-scripts/{02_lexicon.sh,03_lm_preparation.sh,04_data_prep.sh}\n",
    "# !mv 02_lexicon.sh lexicon/.\n",
    "# !mv 03_lm_preparation.sh language/.\n",
    "# !mv 04_data_prep.sh speech/."
   ]
  },
  {
   "cell_type": "markdown",
   "id": "89ddf94a",
   "metadata": {},
   "source": [
    "#### Contenu du jeu de données"
   ]
  },
  {
   "cell_type": "code",
   "execution_count": 9,
   "id": "292a3558",
   "metadata": {
    "ExecuteTime": {
     "end_time": "2022-04-21T23:02:34.611459Z",
     "start_time": "2022-04-21T23:02:34.488668Z"
    }
   },
   "outputs": [
    {
     "name": "stdout",
     "output_type": "stream",
     "text": [
      "\u001b[01;34m.\u001b[00m\r\n",
      "├── \u001b[01;34mlanguage\u001b[00m\r\n",
      "├── \u001b[01;34mlexicon\u001b[00m\r\n",
      "└── \u001b[01;34mspeech\u001b[00m\r\n",
      "    └── \u001b[01;34mtest\u001b[00m\r\n",
      "        └── \u001b[01;34mwav\u001b[00m\r\n",
      "            ├── \u001b[01;34m05\u001b[00m\r\n",
      "            └── \u001b[01;34m10\u001b[00m\r\n",
      "\r\n",
      "7 directories\r\n"
     ]
    }
   ],
   "source": [
    "!tree -d"
   ]
  },
  {
   "cell_type": "markdown",
   "id": "2420f6ca",
   "metadata": {},
   "source": [
    "### Corpus de parole\n",
    "https://github.com/getalp/ALFFA_PUBLIC/tree/master/ASR/WOLOF/data\n",
    "\n",
    "Le corpus de parole proposé dans ALFFA est découpé en 3 sous-ensembles : \n",
    " - un ensemble d'entraînement (**train**) d'environ 16.8h de parole prononcée par 14 locuteurs\n",
    " - un ensemble de validation (**dev**) d'environ 1.2h de parole prononcée par 2 locuteurs\n",
    " - un ensemble de test (**test**) d'environ 0.9h de parole prononcée par 2 locuteurs\n",
    " \n",
    "Pour télécharger les sources :\n",
    "```bash\n",
    "svn checkout https://github.com/getalp/ALFFA_PUBLIC/trunk/ASR/WOLOF/data/{train,dev,test}\n",
    "```"
   ]
  },
  {
   "cell_type": "markdown",
   "id": "4408e996",
   "metadata": {
    "ExecuteTime": {
     "end_time": "2022-04-21T19:21:58.813542Z",
     "start_time": "2022-04-21T19:21:58.809876Z"
    }
   },
   "source": [
    "#### Exploration du contenu du dossier"
   ]
  },
  {
   "cell_type": "code",
   "execution_count": 38,
   "id": "9ebee922",
   "metadata": {
    "ExecuteTime": {
     "end_time": "2022-04-21T23:37:43.659143Z",
     "start_time": "2022-04-21T23:37:43.625240Z"
    }
   },
   "outputs": [
    {
     "name": "stdout",
     "output_type": "stream",
     "text": [
      "Contenu du répertoire 'speech' : \n",
      "04_data_prep.sh\n",
      "test\n",
      "\n",
      "Contenu du répertoire 'speech/test' : \n",
      "README.md\n",
      "test.ref\n",
      "test.trs\n",
      "text\n",
      "wav\n",
      "\n",
      "Contenu du fichier 'text' :\n",
      "\n",
      "WOL_05_lect_0005  tari boo xam ne dañu lay gàgganti rekk mokkul\n",
      "WOL_05_lect_0009  dafa am jamano yoo xam ni xasaw dafay ànd ak xet gu bon\n",
      "WOL_05_lect_0016  bu ngeen bëggee laale demleen ca àll ba\n",
      "WOL_05_lect_0021  yenn saa damay fàtte ne nekkuma senegaal\n",
      "WOL_05_lect_0022  bi mu ñówee ñu daldi koy mà ndillo\n",
      "WOL_05_lect_0024  bu seen pexe soti woon tey duñu fallu\n",
      "WOL_05_lect_0027  boo ci sottee diw tiir gi ba noppi nga ruux ko\n",
      "WOL_05_lect_0028  dafa boot xale bi santal liggéey bi keneen\n",
      "WOL_05_lect_0030  nanga diisoo ak sa jëkkër bala ngay def dara\n",
      "WOL_05_lect_0034  xale bi raatale na laax bi ci dënn bi\n",
      "WOL_10_lect_0987  xamoon ngeen bu baax ne àttanul biib liggéey\n",
      "WOL_10_lect_0988  bantu ron dëgër na moom lañuy liggéeye lal yi\n",
      "WOL_10_lect_0989  dafa mel na mbaar ma gëna fooyooy lañu ko féetale\n",
      "WOL_10_lect_0990  képp ku dégg woote bi na wuyusi ci ndaje mi\n",
      "WOL_10_lect_0991  bi ñu agsee daldi dugg ci kër gi seet seet gisuñu kenn\n",
      "WOL_10_lect_0992  foofa fépp ñaay nañu ko ba samp fa suñu raaya\n",
      "WOL_10_lect_0993  bu jëkk la saxaar yéexoon léegi loolu deñ na\n",
      "WOL_10_lect_0994  yaw jàllal dama ni siiwa mucc ci yaw demal\n",
      "WOL_10_lect_0995  ci léeb boobu janq ba dafa soppeeku picc\n",
      "WOL_10_lect_0996  dañuy bëtal ngénte li ba koor gi jeex\n",
      "\n",
      "Il y a 846 transcriptions, dont 0 doublons, dans le fichier 'text'.\n"
     ]
    }
   ],
   "source": [
    "%%bash\n",
    "speech_dir=speech\n",
    "echo \"Contenu du répertoire '${speech_dir}' : \"\n",
    "ls $speech_dir\n",
    "echo \"\"\n",
    "echo \"Contenu du répertoire '${speech_dir}/test' : \"\n",
    "ls $speech_dir/test\n",
    "echo \"\"\n",
    "for subset in $speech_dir/test; do [ -d $subset ] && echo -e \"Contenu du fichier 'text' :\\n\"; head $subset/text; tail $subset/text; done\n",
    "echo \"\"\n",
    "echo \"Il y a $(wc -l < $subset/text) transcriptions, dont $(cat $subset/text | sort | uniq -d | wc -l ) doublons dans le fichier 'text'.\""
   ]
  },
  {
   "cell_type": "markdown",
   "id": "9dc9616b",
   "metadata": {},
   "source": [
    "### Corpus de textes\n",
    "https://github.com/getalp/ALFFA_PUBLIC/tree/master/ASR/WOLOF/LM\n",
    "\n",
    "Deux corpus de textes sont partagés dans le dépôt ainsi qu'un modèle de langue.   \n",
    "Le modèle de langue (fichier avec extension .arpa) est un modèle 3-grammes estimé avec SRILM à partir des deux corpus de textes sus-mentionnés.   \n",
    "\n",
    "Les fichiers textes sont déjà nettoyés et préparés pour l'estimation d'un modèle de langue.      \n",
    "Vous pouvez donc soit estimer votre propre modèle de langue avec ces corpus de textes soit utilisé le modèle de langue partagé.\n",
    "\n",
    "Pour télécharger les sources :\n",
    "```bash\n",
    "svn checkout https://github.com/getalp/ALFFA_PUBLIC/trunk/ASR/WOLOF/LM\n",
    "```"
   ]
  },
  {
   "cell_type": "code",
   "execution_count": 62,
   "id": "35642a8f",
   "metadata": {
    "ExecuteTime": {
     "end_time": "2022-04-22T00:33:03.844858Z",
     "start_time": "2022-04-22T00:33:03.837679Z"
    }
   },
   "outputs": [
    {
     "data": {
      "text/plain": [
       "'/home/gwmf9814/expes/scripts/notebooks/contribuling2022/kaldi_wolof_asr'"
      ]
     },
     "execution_count": 62,
     "metadata": {},
     "output_type": "execute_result"
    }
   ],
   "source": [
    "%pwd"
   ]
  },
  {
   "cell_type": "markdown",
   "id": "b4ee38ed",
   "metadata": {},
   "source": [
    "#### Exploration des corpus de textes"
   ]
  },
  {
   "cell_type": "code",
   "execution_count": 73,
   "id": "07bd0656",
   "metadata": {
    "ExecuteTime": {
     "end_time": "2022-04-22T00:41:43.933036Z",
     "start_time": "2022-04-22T00:41:43.765338Z"
    }
   },
   "outputs": [
    {
     "name": "stdout",
     "output_type": "stream",
     "text": [
      ">> Contenu du répertoire 'raw/language' : \n",
      "03_lm_preparation.sh\n",
      "combineV1-web-W0.9-3gram.arpa\n",
      "README.md\n",
      "WOL.txt\n",
      "wo_SN-web_crawled.txt\n",
      "\n",
      ">> Contenu des fichiers:\n",
      "Na baral wax ji\n",
      "Na bay waar wi féete ak jànj bi\n",
      "Na bufta yi jib\n",
      "Na buub mbalit mi\n",
      "Na dem boog\n",
      "Na dem suba mboog\n",
      "Na des ca kër ga ba yóos bi wér\n",
      "Na jél bu ko neex\n",
      "Na jél tame bu sew bi\n",
      "Na ku nekk indiwaale jumtukaayam\n",
      "ñu raas ko fuuyu ko te ràcc def cifaay\n",
      "ñu sàkku woon it ci israayil mu genn ci mbooleem suufi araab yi mu tegoon loxo atum 1967 g\n",
      "ñu àngu ñoom ñépp di an calli aréen\n",
      "ñëw na ba sës ci moom rikk yàlla gaw ko ci diggante ñaari xala niki loolu lépp nag màggug guddi gi lay wone kon yàlla nanu yàlla wonale ak barkeb guddi gi nu séddu ci te yàlla baaxe nu ca xam xam boobee\n",
      "ótriis republik bu ótriis réew tugal óróop\n",
      "Nacc afrig ciy doomam yu am yi doole ak ci kàttanam yu nit yi looloo ko doyadiloo woon ba manul woon a jàmmaarlook canc gi colonisation\n",
      "Noy\n",
      "Noyal ca mbicci kaw ga bul jàpp ci pet\n",
      "Nàññante ak weddeente bokk nanu ci jikko yi gën a ñaaw yi gën a bon ree ju bari day ray ab xol\n",
      "ëlëgu mbay ci afrig lu am yaakaar la ndax am na fi ay yaatu yaatu yu mag ci suuf su nangu mbay su ñu jëfandikoogul kon ëlëgu koom koomu afrig lu mat a dale m xel la ndax li muy wund lépp aw yiw la ak mbégte\n",
      "\n",
      "L'ensemble des fichiers textuels contiennent 601639 mots sur 39939 lignes.\n",
      "\n",
      "Il y a 14 doublons dans les corpus textuels.\n"
     ]
    }
   ],
   "source": [
    "%%bash\n",
    "corpus_dir=raw/language\n",
    "echo \">> Contenu du répertoire '${corpus_dir}' : \"\n",
    "ls $corpus_dir\n",
    "echo \"\"\n",
    "echo \">> Contenu des fichiers:\"\n",
    "cat $corpus_dir/*txt | head\n",
    "cat $corpus_dir/*txt | tail\n",
    "echo \"\"\n",
    "echo \"\"\n",
    "\n",
    "echo \"L'ensemble des fichiers textuels contiennent $(cat $corpus_dir/*txt | wc -w) mots sur $(cat $corpus_dir/*txt | wc -l) lignes.\"\n",
    "echo \"\"\n",
    "echo \"Il y a $(cat $corpus_dir/*txt | sort | uniq -d | wc -l ) doublons dans les corpus textuels.\""
   ]
  },
  {
   "cell_type": "markdown",
   "id": "47f5f96d",
   "metadata": {},
   "source": [
    "### Dictionnaire de prononciation\n",
    "Le dictionnaire de prononciation est un fichier nommé *lexicon.txt* dans Kaldi.     \n",
    "Il contient une liste de mots accompagnés de leurs transcriptions phonétiques.    \n",
    "Le format est le suivant :\n",
    "```\n",
    "<word> <phone 1> <phone 2> ... <phone n>\n",
    "    où :\n",
    "        <word> est un mot présent au moins dans les transcriptions et au mieux dans le modèle de langue\n",
    "        <phone 1> est le symbole phonétique représenant le premier phonème du mot\n",
    "        <phone 2> est le symbole phonétique représenant le deuxième phonème du mot\n",
    "        ... etc jusqu'à\n",
    "        <phone n> est le symbole phonétique représenant le dernier phonème du mot\n",
    "```\n",
    "\n",
    "Pour télécharger les sources :\n",
    "```bash\n",
    "wget https://raw.githubusercontent.com/getalp/ALFFA_PUBLIC/master/ASR/WOLOF/data/local/lexicon.txt\n",
    "```"
   ]
  },
  {
   "cell_type": "markdown",
   "id": "fe26b26f",
   "metadata": {
    "ExecuteTime": {
     "end_time": "2022-04-21T19:21:58.813542Z",
     "start_time": "2022-04-21T19:21:58.809876Z"
    }
   },
   "source": [
    "#### Exploration du fichier"
   ]
  },
  {
   "cell_type": "code",
   "execution_count": 20,
   "id": "1521a6f4",
   "metadata": {
    "ExecuteTime": {
     "end_time": "2022-04-21T23:09:12.269643Z",
     "start_time": "2022-04-21T23:09:12.170985Z"
    }
   },
   "outputs": [
    {
     "name": "stdout",
     "output_type": "stream",
     "text": [
      "Contenu du répertoire 'lexicon' : \n",
      "lexicon.txt\n",
      "\n",
      "Contenu de 'lexicon.txt' : \n",
      "Na\tN a\n",
      "Naa\tN a a\n",
      "NaaN\tN a a N\n",
      "Naam\tN a a m\n",
      "Naamaan\tN a a m a a n\n",
      "Naamaankat\tN a a m a a n k a t\n",
      "Naar\tN a a r\n",
      "Naari\tN a a r i\n",
      "Naarri\tN a a r r i\n",
      "Naata\tN a a t a\n",
      "ñëwul\tJ @ w u l\n",
      "ñëwuma\tJ @ w u m a\n",
      "ñëëw\tJ @ @ w\n",
      "ññu\tJ J u\n",
      "ñóddi\tJ o d d i\n",
      "ñórndi\tJ o r nd i\n",
      "óróop\to r o o p\n",
      "óstraali\to s t r a a l i\n",
      "ótiris\to t i r i s\n",
      "ótrii\to t r i i\n",
      "\n",
      "Il y a 32039 entrées dans le dictionnaire.\n",
      "Il y a 0 doublons dans le dictionnaire.\n"
     ]
    }
   ],
   "source": [
    "%%bash\n",
    "lexicon_dir=raw/lexicon\n",
    "echo \"Contenu du répertoire '${lexicon_dir}' : \"\n",
    "ls $lexicon_dir\n",
    "echo \"\"\n",
    "echo \"Contenu de 'lexicon.txt' : \"\n",
    "head $lexicon_dir/lexicon.txt\n",
    "tail $lexicon_dir/lexicon.txt\n",
    "echo \"\"\n",
    "echo \"Il y a $(wc -l < $lexicon_dir/lexicon.txt) entrées dans le dictionnaire.\"\n",
    "echo \"Il y a $(cat $lexicon_dir/lexicon.txt | sort | uniq -d | wc -l ) doublons dans le dictionnaire.\""
   ]
  },
  {
   "cell_type": "markdown",
   "id": "8359d8d6",
   "metadata": {
    "ExecuteTime": {
     "end_time": "2022-04-20T09:37:31.624937Z",
     "start_time": "2022-04-20T09:37:31.503505Z"
    }
   },
   "source": [
    "## Fichiers Kaldi : text, wav.scp, utt2spk\n",
    "\n",
    "Pour chaque ensemble (train, dev, test), 3 fichiers doivent être créé manuellement pour Kaldi : text, wav.scp, utt2spk    \n",
    "\n",
    "Ils seront ensuite exploités par des scripts qui généreront automatiquement les fichiers restants nécessaire à l'apprentissage des modèles."
   ]
  },
  {
   "cell_type": "markdown",
   "id": "8395c9a6",
   "metadata": {},
   "source": [
    "### text\n",
    "\n",
    "Le fichier ```text``` est un fichier qui permet d'identifier une transcription à l'aide d'un identifiant unique.    \n",
    "Le format est le suivant :    \n",
    "```\n",
    "<transcription-id> <transcription>\n",
    "    où :      \n",
    "        <transcription-id> représente l'identifiant de la phrase prononcée dans l'enregistrement audio \n",
    "        <transcription> correspond à la phrase prononcée dans l'enregistrement audio (la transcription)\n",
    "``` \n",
    "\n",
    "Le dépôt ALFFA partage le fichier ```text```, donc nous n'avons pas à le formatter.    \n",
    "Nous allons simplement le copier dans le dossier *data/* du répertoire de travail.    \n",
    "(Nous faisons la manip pour le fichier ```text``` du dossier *test/* mais il faudrait également le faire pour *train* et *dev/*"
   ]
  },
  {
   "cell_type": "code",
   "execution_count": 82,
   "id": "d10a6d47",
   "metadata": {
    "ExecuteTime": {
     "end_time": "2022-04-22T00:56:44.272522Z",
     "start_time": "2022-04-22T00:56:44.242689Z"
    }
   },
   "outputs": [
    {
     "name": "stdout",
     "output_type": "stream",
     "text": [
      "Contenu du répertoire 'raw/speech' : \n",
      "04_data_prep.sh\n",
      "test\n",
      "\n",
      "Contenu du répertoire 'raw/speech/test' : \n",
      "README.md\n",
      "test.ref\n",
      "test.trs\n",
      "text\n",
      "wav\n"
     ]
    },
    {
     "name": "stderr",
     "output_type": "stream",
     "text": [
      "cp: cannot stat 'raw/speech/train/text': No such file or directory\n",
      "cp: cannot stat 'raw/speech/dev/text': No such file or directory\n"
     ]
    }
   ],
   "source": [
    "%%bash\n",
    "speech_dir=raw/speech\n",
    "echo \"Contenu du répertoire '${speech_dir}' : \"\n",
    "ls $speech_dir\n",
    "echo \"\"\n",
    "echo \"Contenu du répertoire '${speech_dir}/test' : \"\n",
    "ls $speech_dir/test\n",
    "\n",
    "# copie du fichier 'text' dans le répertoire data/test/.\n",
    "for dir in \"test\"  # \"train\" \"dev\"\n",
    "do \n",
    "    cp $speech_dir/$dir/text data/$dir/.\n",
    "done"
   ]
  },
  {
   "cell_type": "markdown",
   "id": "2cb7ad24",
   "metadata": {},
   "source": [
    "#### Contenu du fichier text"
   ]
  },
  {
   "cell_type": "code",
   "execution_count": 83,
   "id": "ba0924fb",
   "metadata": {
    "ExecuteTime": {
     "end_time": "2022-04-22T00:57:32.843956Z",
     "start_time": "2022-04-22T00:57:32.836745Z"
    }
   },
   "outputs": [
    {
     "data": {
      "text/plain": [
       "'/home/gwmf9814/expes/scripts/notebooks/contribuling2022/kaldi_wolof_asr'"
      ]
     },
     "execution_count": 83,
     "metadata": {},
     "output_type": "execute_result"
    }
   ],
   "source": [
    "%pwd"
   ]
  },
  {
   "cell_type": "code",
   "execution_count": 84,
   "id": "6dc0abbe",
   "metadata": {
    "ExecuteTime": {
     "end_time": "2022-04-22T00:58:02.730986Z",
     "start_time": "2022-04-22T00:58:02.701344Z"
    }
   },
   "outputs": [
    {
     "name": "stdout",
     "output_type": "stream",
     "text": [
      "Contenu du fichier 'text' :\n",
      "WOL_05_lect_0005  tari boo xam ne dañu lay gàgganti rekk mokkul\n",
      "WOL_05_lect_0009  dafa am jamano yoo xam ni xasaw dafay ànd ak xet gu bon\n",
      "WOL_05_lect_0016  bu ngeen bëggee laale demleen ca àll ba\n",
      "WOL_05_lect_0021  yenn saa damay fàtte ne nekkuma senegaal\n",
      "WOL_05_lect_0022  bi mu ñówee ñu daldi koy mà ndillo\n",
      "WOL_05_lect_0024  bu seen pexe soti woon tey duñu fallu\n",
      "WOL_05_lect_0027  boo ci sottee diw tiir gi ba noppi nga ruux ko\n",
      "WOL_05_lect_0028  dafa boot xale bi santal liggéey bi keneen\n",
      "WOL_05_lect_0030  nanga diisoo ak sa jëkkër bala ngay def dara\n",
      "WOL_05_lect_0034  xale bi raatale na laax bi ci dënn bi\n",
      "WOL_10_lect_0987  xamoon ngeen bu baax ne àttanul biib liggéey\n",
      "WOL_10_lect_0988  bantu ron dëgër na moom lañuy liggéeye lal yi\n",
      "WOL_10_lect_0989  dafa mel na mbaar ma gëna fooyooy lañu ko féetale\n",
      "WOL_10_lect_0990  képp ku dégg woote bi na wuyusi ci ndaje mi\n",
      "WOL_10_lect_0991  bi ñu agsee daldi dugg ci kër gi seet seet gisuñu kenn\n",
      "WOL_10_lect_0992  foofa fépp ñaay nañu ko ba samp fa suñu raaya\n",
      "WOL_10_lect_0993  bu jëkk la saxaar yéexoon léegi loolu deñ na\n",
      "WOL_10_lect_0994  yaw jàllal dama ni siiwa mucc ci yaw demal\n",
      "WOL_10_lect_0995  ci léeb boobu janq ba dafa soppeeku picc\n",
      "WOL_10_lect_0996  dañuy bëtal ngénte li ba koor gi jeex\n",
      "\n",
      "Il y a 846 transcriptions, dont 50 doublons dans le fichier 'text'.\n"
     ]
    }
   ],
   "source": [
    "%%bash\n",
    "data_dir=data\n",
    "echo \"Contenu du fichier 'text' :\"\n",
    "head $data_dir/test/text\n",
    "tail $data_dir/test/text\n",
    "echo \"\"\n",
    "echo \"Il y a $(wc -l < $data_dir/test/text) transcriptions, dont $(cat $data_dir/test/text | cut -d' ' -f3- | sort | uniq -d | wc -l ) doublons dans le fichier 'text'.\""
   ]
  },
  {
   "cell_type": "markdown",
   "id": "a86dd324",
   "metadata": {},
   "source": [
    "## Préparation des autres fichiers\n",
    "\n",
    "Pour générer les autres fichiers, un script est disponible dans le dépôt.\n",
    "Pour d'autres données, il faudra l'adapter.\n",
    "\n",
    "Pour récupérer les sources :\n",
    "```bash\n",
    "wget https://raw.githubusercontent.com/getalp/ALFFA_PUBLIC/master/ASR/WOLOF/kaldi-scripts/04_data_prep.sh\n",
    "```"
   ]
  },
  {
   "cell_type": "code",
   "execution_count": 49,
   "id": "e31100f5",
   "metadata": {
    "ExecuteTime": {
     "end_time": "2022-04-21T23:50:36.728967Z",
     "start_time": "2022-04-21T23:50:36.376210Z"
    }
   },
   "outputs": [],
   "source": [
    "# # Copie des scripts de pré-traitement dans le dossier local/ pour garder les originaux dans raw/\n",
    "# !cp raw/speech/04_data_prep.sh local/.\n",
    "# !cp raw/language/03_lm_preparation.sh local/.\n",
    "# !cp raw/lexicon/02_lexicon.sh local/."
   ]
  },
  {
   "cell_type": "code",
   "execution_count": 85,
   "id": "0c00d7ab",
   "metadata": {
    "ExecuteTime": {
     "end_time": "2022-04-22T00:58:31.081783Z",
     "start_time": "2022-04-22T00:58:30.962255Z"
    }
   },
   "outputs": [
    {
     "name": "stdout",
     "output_type": "stream",
     "text": [
      "/home/gwmf9814/expes/scripts/notebooks/contribuling2022/kaldi_wolof_asr\r\n"
     ]
    }
   ],
   "source": [
    "!pwd"
   ]
  },
  {
   "cell_type": "code",
   "execution_count": 47,
   "id": "3ca6f53a",
   "metadata": {
    "ExecuteTime": {
     "end_time": "2022-04-21T23:47:23.106005Z",
     "start_time": "2022-04-21T23:47:23.099878Z"
    }
   },
   "outputs": [
    {
     "name": "stdout",
     "output_type": "stream",
     "text": [
      "/home/gwmf9814/expes/scripts/notebooks/contribuling2022/kaldi_wolof_asr\n"
     ]
    }
   ],
   "source": [
    "%cd ..  # /home/gwmf9814/expes/scripts/notebooks/contribuling2022/kaldi_wolof_asr est désormais le répertoire courant"
   ]
  },
  {
   "cell_type": "markdown",
   "id": "f9deb3f7",
   "metadata": {
    "heading_collapsed": true
   },
   "source": [
    "### Modification du script 04_data_prep.sh\n",
    "\n",
    "Ce script permet de générer le fichier ```utt2spk```, ```spk2utt``` et ```wav.scp``` nécessaire à Kaldi.    \n"
   ]
  },
  {
   "cell_type": "markdown",
   "id": "4a2210d5",
   "metadata": {
    "ExecuteTime": {
     "end_time": "2022-04-21T18:46:37.707496Z",
     "start_time": "2022-04-21T18:46:37.700870Z"
    },
    "heading_collapsed": true,
    "hidden": true
   },
   "source": [
    "#### wav.scp\n",
    "\n",
    "Le fichier ```wav.scp``` est un fichier qui permet d'identifier le fichier audio correspondant à une transcription.    \n",
    "Le format est le suivant :\n",
    "```\n",
    "<transcription-id> <audio-path>\n",
    "    où :      \n",
    "        <transcription-id> représente l'identifiant de la phrase prononcée dans l'enregistrement audio \n",
    "        <audio-path> est le chemin complet pointant vers l'enregistrement audio\n",
    "```"
   ]
  },
  {
   "cell_type": "code",
   "execution_count": 90,
   "id": "15465847",
   "metadata": {
    "ExecuteTime": {
     "end_time": "2022-04-22T01:04:40.114719Z",
     "start_time": "2022-04-22T01:04:39.992683Z"
    },
    "hidden": true
   },
   "outputs": [
    {
     "name": "stdout",
     "output_type": "stream",
     "text": [
      "cmd.sh\tdata  exp  local  path.sh  raw\trun.pl\trun.sh\tsteps  utils\r\n"
     ]
    }
   ],
   "source": [
    "!ls"
   ]
  },
  {
   "cell_type": "code",
   "execution_count": 93,
   "id": "60eaab26",
   "metadata": {
    "ExecuteTime": {
     "end_time": "2022-04-22T01:07:20.982898Z",
     "start_time": "2022-04-22T01:07:20.930881Z"
    },
    "hidden": true
   },
   "outputs": [
    {
     "name": "stdout",
     "output_type": "stream",
     "text": [
      "make wav.scp for train dev test...\n",
      "~/expes/scripts/notebooks/contribuling2022/kaldi_wolof_asr/raw/speech/test ~/expes/scripts/notebooks/contribuling2022/kaldi_wolof_asr\n",
      "~/expes/scripts/notebooks/contribuling2022/kaldi_wolof_asr\n",
      "wav.scp created for train dev test.\n",
      "\n"
     ]
    }
   ],
   "source": [
    "%%bash\n",
    "WORKING_DIR=`pwd`\n",
    "wav_dir=$WORKING_DIR/raw/speech\n",
    "dest_dir=$WORKING_DIR/data/test\n",
    "#Built wav.scp file\n",
    "echo \"make wav.scp for train dev test...\"\n",
    "for dir in $wav_dir/test # $wav_dir/train $wav_dir/dev\n",
    "do\n",
    "  pushd $dir\n",
    "    readlink -e wav/*/*.wav > $dest_dir/tutu1\n",
    "    cat $dest_dir/tutu1 | awk -F'/' '{print $NF}' | sed 's/.wav//g' > $dest_dir/tutu2 # get the final field as the recording name, remove .wav\n",
    "    paste $dest_dir/tutu2 $dest_dir/tutu1 > $dest_dir/wav.scp\n",
    "    rm $dest_dir/tutu2 $dest_dir/tutu1\n",
    "  popd\n",
    "done\n",
    "echo -e \"wav.scp created for train dev test.\\n\""
   ]
  },
  {
   "cell_type": "markdown",
   "id": "59f10117",
   "metadata": {
    "ExecuteTime": {
     "end_time": "2022-04-21T18:46:37.707496Z",
     "start_time": "2022-04-21T18:46:37.700870Z"
    },
    "heading_collapsed": true,
    "hidden": true
   },
   "source": [
    "#### utt2spk\n",
    "\n",
    "Le fichier ```utt2spk``` est un fichier qui permet d'identifier le locuteur prononçant la phrase dans l'enregistrement.    \n",
    "Le format est le suivant :\n",
    "```\n",
    "<transcription-id> <speaker-id>\n",
    "    où :      \n",
    "        <transcription-id> représente l'identifiant de la phrase prononcée dans l'enregistrement audio \n",
    "        <speaker-id> représente l'identifiant du locuteur qui prononce la phrase\n",
    "```\n",
    "\n",
    "\n",
    "#### spk2utt\n",
    "Il permet de relier toutes les transcriptions à un locuteur.\n",
    "Le format du fichier est le suivant :\n",
    "```\n",
    "<speaker-id> <transcription-id> <transcription-id> <transcription-id> <transcription-id> <transcription-id>\n",
    "```"
   ]
  },
  {
   "cell_type": "code",
   "execution_count": 86,
   "id": "969884d5",
   "metadata": {
    "ExecuteTime": {
     "end_time": "2022-04-22T00:59:14.593267Z",
     "start_time": "2022-04-22T00:59:14.558926Z"
    },
    "hidden": true
   },
   "outputs": [
    {
     "name": "stdout",
     "output_type": "stream",
     "text": [
      "make utt2spk and spk2utt for train dev test...\n",
      "utt2spk and spk2utt created for train dev test.\n",
      "\n"
     ]
    }
   ],
   "source": [
    "%%bash\n",
    "WORKING_DIR=`pwd`\n",
    "#Built text file, utt2spk file and spk2utt\n",
    "echo \"make utt2spk and spk2utt for train dev test...\"\n",
    "for dir in $WORKING_DIR/data/test\n",
    "do\n",
    "  cat $dir/text | cut -d' ' -f1 > $dir/utt\n",
    "  cat $dir/text | cut -d'_' -f2 > $dir/spk\n",
    "  paste $dir/utt $dir/spk > $dir/utt2spk\n",
    "  utils/utt2spk_to_spk2utt.pl $dir/utt2spk | sort -k1 > $dir/spk2utt\n",
    "  rm $dir/utt $dir/spk\n",
    "done\n",
    "echo -e \"utt2spk and spk2utt created for train dev test.\\n\""
   ]
  },
  {
   "cell_type": "code",
   "execution_count": 88,
   "id": "db8a4f1a",
   "metadata": {
    "ExecuteTime": {
     "end_time": "2022-04-22T00:59:44.001577Z",
     "start_time": "2022-04-22T00:59:43.882223Z"
    },
    "hidden": true
   },
   "outputs": [
    {
     "name": "stdout",
     "output_type": "stream",
     "text": [
      "WOL_05_lect_0005\t05\r\n",
      "WOL_05_lect_0009\t05\r\n",
      "WOL_05_lect_0016\t05\r\n",
      "WOL_05_lect_0021\t05\r\n",
      "WOL_05_lect_0022\t05\r\n",
      "WOL_05_lect_0024\t05\r\n",
      "WOL_05_lect_0027\t05\r\n",
      "WOL_05_lect_0028\t05\r\n",
      "WOL_05_lect_0030\t05\r\n",
      "WOL_05_lect_0034\t05\r\n"
     ]
    }
   ],
   "source": [
    "!head data/test/utt2spk"
   ]
  },
  {
   "cell_type": "code",
   "execution_count": 89,
   "id": "463f76d7",
   "metadata": {
    "ExecuteTime": {
     "end_time": "2022-04-22T00:59:59.882097Z",
     "start_time": "2022-04-22T00:59:59.761408Z"
    },
    "hidden": true
   },
   "outputs": [
    {
     "name": "stdout",
     "output_type": "stream",
     "text": [
      "05 WOL_05_lect_0005 WOL_05_lect_0009 WOL_05_lect_0016 WOL_05_lect_0021 WOL_05_lect_0022 WOL_05_lect_0024 WOL_05_lect_0027 WOL_05_lect_0028 WOL_05_lect_0030 WOL_05_lect_0034 WOL_05_lect_0035 WOL_05_lect_0045 WOL_05_lect_0049 WOL_05_lect_0050 WOL_05_lect_0053 WOL_05_lect_0056 WOL_05_lect_0060 WOL_05_lect_0061 WOL_05_lect_0066 WOL_05_lect_0071 WOL_05_lect_0087 WOL_05_lect_0094 WOL_05_lect_0097 WOL_05_lect_0106 WOL_05_lect_0108 WOL_05_lect_0111 WOL_05_lect_0114 WOL_05_lect_0129 WOL_05_lect_0137 WOL_05_lect_0143 WOL_05_lect_0148 WOL_05_lect_0151 WOL_05_lect_0153 WOL_05_lect_0160 WOL_05_lect_0161 WOL_05_lect_0168 WOL_05_lect_0171 WOL_05_lect_0174 WOL_05_lect_0184 WOL_05_lect_0185 WOL_05_lect_0193 WOL_05_lect_0206 WOL_05_lect_0211 WOL_05_lect_0213 WOL_05_lect_0229 WOL_05_lect_0232 WOL_05_lect_0240 WOL_05_lect_0241 WOL_05_lect_0248 WOL_05_lect_0251 WOL_05_lect_0259 WOL_05_lect_0269 WOL_05_lect_0271 WOL_05_lect_0272 WOL_05_lect_0278 WOL_05_lect_0293 WOL_05_lect_0308 WOL_05_lect_0319 WOL_05_lect_0334 WOL_05_lect_0346 WOL_05_lect_0353 WOL_05_lect_0358 WOL_05_lect_0359 WOL_05_lect_0360 WOL_05_lect_0375 WOL_05_lect_0377 WOL_05_lect_0391 WOL_05_lect_0393 WOL_05_lect_0394 WOL_05_lect_0396 WOL_05_lect_0401 WOL_05_lect_0405 WOL_05_lect_0410 WOL_05_lect_0413 WOL_05_lect_0414 WOL_05_lect_0417 WOL_05_lect_0418 WOL_05_lect_0420 WOL_05_lect_0424 WOL_05_lect_0435 WOL_05_lect_0436 WOL_05_lect_0439 WOL_05_lect_0441 WOL_05_lect_0442 WOL_05_lect_0444 WOL_05_lect_0447 WOL_05_lect_0448 WOL_05_lect_0456 WOL_05_lect_0460 WOL_05_lect_0462 WOL_05_lect_0465 WOL_05_lect_0467 WOL_05_lect_0468 WOL_05_lect_0473 WOL_05_lect_0474 WOL_05_lect_0475 WOL_05_lect_0483 WOL_05_lect_0490 WOL_05_lect_0501 WOL_05_lect_0503 WOL_05_lect_0508 WOL_05_lect_0520 WOL_05_lect_0529 WOL_05_lect_0531 WOL_05_lect_0535 WOL_05_lect_0536 WOL_05_lect_0546 WOL_05_lect_0554 WOL_05_lect_0557 WOL_05_lect_0558 WOL_05_lect_0560 WOL_05_lect_0570 WOL_05_lect_0572 WOL_05_lect_0577 WOL_05_lect_0578 WOL_05_lect_0582 WOL_05_lect_0583 WOL_05_lect_0593 WOL_05_lect_0597 WOL_05_lect_0599 WOL_05_lect_0600 WOL_05_lect_0601 WOL_05_lect_0602 WOL_05_lect_0604 WOL_05_lect_0605 WOL_05_lect_0620 WOL_05_lect_0623 WOL_05_lect_0633 WOL_05_lect_0640 WOL_05_lect_0641 WOL_05_lect_0644 WOL_05_lect_0647 WOL_05_lect_0654 WOL_05_lect_0656 WOL_05_lect_0657 WOL_05_lect_0661 WOL_05_lect_0667 WOL_05_lect_0684 WOL_05_lect_0685 WOL_05_lect_0689 WOL_05_lect_0703 WOL_05_lect_0707 WOL_05_lect_0713 WOL_05_lect_0717 WOL_05_lect_0735 WOL_05_lect_0742 WOL_05_lect_0743 WOL_05_lect_0747 WOL_05_lect_0748 WOL_05_lect_0757 WOL_05_lect_0764 WOL_05_lect_0770 WOL_05_lect_0774 WOL_05_lect_0781 WOL_05_lect_0783 WOL_05_lect_0793 WOL_05_lect_0796 WOL_05_lect_0797 WOL_05_lect_0798 WOL_05_lect_0807 WOL_05_lect_0809 WOL_05_lect_0813 WOL_05_lect_0816 WOL_05_lect_0818 WOL_05_lect_0828 WOL_05_lect_0831 WOL_05_lect_0841 WOL_05_lect_0843 WOL_05_lect_0845 WOL_05_lect_0849 WOL_05_lect_0852 WOL_05_lect_0855 WOL_05_lect_0858 WOL_05_lect_0860 WOL_05_lect_0866 WOL_05_lect_0867 WOL_05_lect_0872 WOL_05_lect_0882 WOL_05_lect_0889 WOL_05_lect_0890 WOL_05_lect_0892 WOL_05_lect_0896 WOL_05_lect_0899 WOL_05_lect_0914 WOL_05_lect_0915 WOL_05_lect_0916 WOL_05_lect_0919 WOL_05_lect_0929 WOL_05_lect_0942 WOL_05_lect_0943 WOL_05_lect_0947 WOL_05_lect_0950 WOL_05_lect_0959 WOL_05_lect_0961 WOL_05_lect_0971 WOL_05_lect_0974 WOL_05_lect_0978 WOL_05_lect_0979 WOL_05_lect_0984 WOL_05_lect_0986 WOL_05_lect_0987 WOL_05_lect_0991 WOL_05_lect_0993 WOL_05_lect_0996 WOL_05_lect_0998 WOL_05_lect_0999\r\n",
      "10 WOL_10_lect_0001 WOL_10_lect_0002 WOL_10_lect_0005 WOL_10_lect_0006 WOL_10_lect_0008 WOL_10_lect_0009 WOL_10_lect_0010 WOL_10_lect_0013 WOL_10_lect_0014 WOL_10_lect_0016 WOL_10_lect_0017 WOL_10_lect_0018 WOL_10_lect_0019 WOL_10_lect_0021 WOL_10_lect_0022 WOL_10_lect_0025 WOL_10_lect_0026 WOL_10_lect_0027 WOL_10_lect_0028 WOL_10_lect_0029 WOL_10_lect_0030 WOL_10_lect_0031 WOL_10_lect_0032 WOL_10_lect_0033 WOL_10_lect_0034 WOL_10_lect_0035 WOL_10_lect_0038 WOL_10_lect_0040 WOL_10_lect_0041 WOL_10_lect_0042 WOL_10_lect_0043 WOL_10_lect_0044 WOL_10_lect_0045 WOL_10_lect_0046 WOL_10_lect_0047 WOL_10_lect_0048 WOL_10_lect_0050 WOL_10_lect_0052 WOL_10_lect_0054 WOL_10_lect_0055 WOL_10_lect_0058 WOL_10_lect_0059 WOL_10_lect_0060 WOL_10_lect_0061 WOL_10_lect_0062 WOL_10_lect_0063 WOL_10_lect_0067 WOL_10_lect_0068 WOL_10_lect_0069 WOL_10_lect_0070 WOL_10_lect_0071 WOL_10_lect_0072 WOL_10_lect_0074 WOL_10_lect_0075 WOL_10_lect_0076 WOL_10_lect_0078 WOL_10_lect_0079 WOL_10_lect_0080 WOL_10_lect_0081 WOL_10_lect_0082 WOL_10_lect_0084 WOL_10_lect_0085 WOL_10_lect_0087 WOL_10_lect_0088 WOL_10_lect_0089 WOL_10_lect_0091 WOL_10_lect_0094 WOL_10_lect_0095 WOL_10_lect_0096 WOL_10_lect_0097 WOL_10_lect_0098 WOL_10_lect_0099 WOL_10_lect_0100 WOL_10_lect_0101 WOL_10_lect_0103 WOL_10_lect_0104 WOL_10_lect_0105 WOL_10_lect_0106 WOL_10_lect_0107 WOL_10_lect_0109 WOL_10_lect_0110 WOL_10_lect_0111 WOL_10_lect_0112 WOL_10_lect_0114 WOL_10_lect_0115 WOL_10_lect_0119 WOL_10_lect_0121 WOL_10_lect_0123 WOL_10_lect_0124 WOL_10_lect_0125 WOL_10_lect_0127 WOL_10_lect_0128 WOL_10_lect_0132 WOL_10_lect_0135 WOL_10_lect_0136 WOL_10_lect_0137 WOL_10_lect_0138 WOL_10_lect_0139 WOL_10_lect_0140 WOL_10_lect_0141 WOL_10_lect_0142 WOL_10_lect_0143 WOL_10_lect_0144 WOL_10_lect_0146 WOL_10_lect_0149 WOL_10_lect_0150 WOL_10_lect_0151 WOL_10_lect_0152 WOL_10_lect_0153 WOL_10_lect_0155 WOL_10_lect_0156 WOL_10_lect_0157 WOL_10_lect_0158 WOL_10_lect_0160 WOL_10_lect_0161 WOL_10_lect_0162 WOL_10_lect_0163 WOL_10_lect_0164 WOL_10_lect_0165 WOL_10_lect_0166 WOL_10_lect_0167 WOL_10_lect_0168 WOL_10_lect_0169 WOL_10_lect_0170 WOL_10_lect_0171 WOL_10_lect_0172 WOL_10_lect_0173 WOL_10_lect_0175 WOL_10_lect_0176 WOL_10_lect_0177 WOL_10_lect_0179 WOL_10_lect_0180 WOL_10_lect_0182 WOL_10_lect_0183 WOL_10_lect_0185 WOL_10_lect_0187 WOL_10_lect_0189 WOL_10_lect_0190 WOL_10_lect_0193 WOL_10_lect_0194 WOL_10_lect_0195 WOL_10_lect_0197 WOL_10_lect_0198 WOL_10_lect_0199 WOL_10_lect_0201 WOL_10_lect_0202 WOL_10_lect_0203 WOL_10_lect_0204 WOL_10_lect_0205 WOL_10_lect_0208 WOL_10_lect_0210 WOL_10_lect_0211 WOL_10_lect_0212 WOL_10_lect_0213 WOL_10_lect_0214 WOL_10_lect_0215 WOL_10_lect_0216 WOL_10_lect_0217 WOL_10_lect_0218 WOL_10_lect_0219 WOL_10_lect_0220 WOL_10_lect_0221 WOL_10_lect_0223 WOL_10_lect_0224 WOL_10_lect_0225 WOL_10_lect_0226 WOL_10_lect_0227 WOL_10_lect_0228 WOL_10_lect_0229 WOL_10_lect_0231 WOL_10_lect_0232 WOL_10_lect_0233 WOL_10_lect_0234 WOL_10_lect_0236 WOL_10_lect_0237 WOL_10_lect_0238 WOL_10_lect_0239 WOL_10_lect_0240 WOL_10_lect_0241 WOL_10_lect_0242 WOL_10_lect_0243 WOL_10_lect_0244 WOL_10_lect_0245 WOL_10_lect_0247 WOL_10_lect_0248 WOL_10_lect_0249 WOL_10_lect_0250 WOL_10_lect_0251 WOL_10_lect_0252 WOL_10_lect_0253 WOL_10_lect_0256 WOL_10_lect_0257 WOL_10_lect_0258 WOL_10_lect_0259 WOL_10_lect_0261 WOL_10_lect_0262 WOL_10_lect_0264 WOL_10_lect_0265 WOL_10_lect_0268 WOL_10_lect_0270 WOL_10_lect_0273 WOL_10_lect_0274 WOL_10_lect_0276 WOL_10_lect_0277 WOL_10_lect_0279 WOL_10_lect_0281 WOL_10_lect_0283 WOL_10_lect_0284 WOL_10_lect_0285 WOL_10_lect_0286 WOL_10_lect_0290 WOL_10_lect_0291 WOL_10_lect_0292 WOL_10_lect_0293 WOL_10_lect_0294 WOL_10_lect_0295 WOL_10_lect_0297 WOL_10_lect_0299 WOL_10_lect_0300 WOL_10_lect_0304 WOL_10_lect_0306 WOL_10_lect_0308 WOL_10_lect_0309 WOL_10_lect_0311 WOL_10_lect_0312 WOL_10_lect_0313 WOL_10_lect_0314 WOL_10_lect_0315 WOL_10_lect_0316 WOL_10_lect_0317 WOL_10_lect_0321 WOL_10_lect_0322 WOL_10_lect_0325 WOL_10_lect_0326 WOL_10_lect_0327 WOL_10_lect_0329 WOL_10_lect_0331 WOL_10_lect_0333 WOL_10_lect_0334 WOL_10_lect_0335 WOL_10_lect_0337 WOL_10_lect_0338 WOL_10_lect_0339 WOL_10_lect_0340 WOL_10_lect_0341 WOL_10_lect_0342 WOL_10_lect_0343 WOL_10_lect_0345 WOL_10_lect_0346 WOL_10_lect_0347 WOL_10_lect_0348 WOL_10_lect_0350 WOL_10_lect_0351 WOL_10_lect_0352 WOL_10_lect_0353 WOL_10_lect_0354 WOL_10_lect_0358 WOL_10_lect_0361 WOL_10_lect_0365 WOL_10_lect_0366 WOL_10_lect_0368 WOL_10_lect_0369 WOL_10_lect_0374 WOL_10_lect_0376 WOL_10_lect_0377 WOL_10_lect_0379 WOL_10_lect_0380 WOL_10_lect_0381 WOL_10_lect_0383 WOL_10_lect_0384 WOL_10_lect_0388 WOL_10_lect_0389 WOL_10_lect_0390 WOL_10_lect_0392 WOL_10_lect_0394 WOL_10_lect_0395 WOL_10_lect_0396 WOL_10_lect_0397 WOL_10_lect_0398 WOL_10_lect_0401 WOL_10_lect_0403 WOL_10_lect_0406 WOL_10_lect_0408 WOL_10_lect_0409 WOL_10_lect_0412 WOL_10_lect_0413 WOL_10_lect_0414 WOL_10_lect_0416 WOL_10_lect_0418 WOL_10_lect_0419 WOL_10_lect_0420 WOL_10_lect_0422 WOL_10_lect_0423 WOL_10_lect_0424 WOL_10_lect_0425 WOL_10_lect_0426 WOL_10_lect_0427 WOL_10_lect_0428 WOL_10_lect_0429 WOL_10_lect_0431 WOL_10_lect_0432 WOL_10_lect_0433 WOL_10_lect_0435 WOL_10_lect_0438 WOL_10_lect_0439 WOL_10_lect_0443 WOL_10_lect_0444 WOL_10_lect_0445 WOL_10_lect_0446 WOL_10_lect_0447 WOL_10_lect_0448 WOL_10_lect_0450 WOL_10_lect_0452 WOL_10_lect_0453 WOL_10_lect_0454 WOL_10_lect_0455 WOL_10_lect_0456 WOL_10_lect_0457 WOL_10_lect_0459 WOL_10_lect_0461 WOL_10_lect_0463 WOL_10_lect_0464 WOL_10_lect_0465 WOL_10_lect_0466 WOL_10_lect_0468 WOL_10_lect_0469 WOL_10_lect_0472 WOL_10_lect_0474 WOL_10_lect_0475 WOL_10_lect_0478 WOL_10_lect_0479 WOL_10_lect_0480 WOL_10_lect_0481 WOL_10_lect_0482 WOL_10_lect_0483 WOL_10_lect_0484 WOL_10_lect_0485 WOL_10_lect_0487 WOL_10_lect_0490 WOL_10_lect_0491 WOL_10_lect_0492 WOL_10_lect_0495 WOL_10_lect_0496 WOL_10_lect_0498 WOL_10_lect_0503 WOL_10_lect_0508 WOL_10_lect_0510 WOL_10_lect_0512 WOL_10_lect_0513 WOL_10_lect_0514 WOL_10_lect_0515 WOL_10_lect_0517 WOL_10_lect_0519 WOL_10_lect_0520 WOL_10_lect_0522 WOL_10_lect_0523 WOL_10_lect_0524 WOL_10_lect_0525 WOL_10_lect_0526 WOL_10_lect_0527 WOL_10_lect_0528 WOL_10_lect_0533 WOL_10_lect_0534 WOL_10_lect_0539 WOL_10_lect_0540 WOL_10_lect_0543 WOL_10_lect_0547 WOL_10_lect_0548 WOL_10_lect_0549 WOL_10_lect_0550 WOL_10_lect_0552 WOL_10_lect_0553 WOL_10_lect_0554 WOL_10_lect_0555 WOL_10_lect_0559 WOL_10_lect_0560 WOL_10_lect_0561 WOL_10_lect_0562 WOL_10_lect_0563 WOL_10_lect_0564 WOL_10_lect_0565 WOL_10_lect_0566 WOL_10_lect_0574 WOL_10_lect_0577 WOL_10_lect_0578 WOL_10_lect_0581 WOL_10_lect_0582 WOL_10_lect_0585 WOL_10_lect_0586 WOL_10_lect_0587 WOL_10_lect_0588 WOL_10_lect_0589 WOL_10_lect_0590 WOL_10_lect_0591 WOL_10_lect_0595 WOL_10_lect_0596 WOL_10_lect_0597 WOL_10_lect_0598 WOL_10_lect_0600 WOL_10_lect_0601 WOL_10_lect_0602 WOL_10_lect_0603 WOL_10_lect_0605 WOL_10_lect_0606 WOL_10_lect_0607 WOL_10_lect_0608 WOL_10_lect_0609 WOL_10_lect_0610 WOL_10_lect_0611 WOL_10_lect_0612 WOL_10_lect_0613 WOL_10_lect_0614 WOL_10_lect_0615 WOL_10_lect_0616 WOL_10_lect_0617 WOL_10_lect_0618 WOL_10_lect_0619 WOL_10_lect_0620 WOL_10_lect_0621 WOL_10_lect_0622 WOL_10_lect_0623 WOL_10_lect_0624 WOL_10_lect_0625 WOL_10_lect_0626 WOL_10_lect_0627 WOL_10_lect_0628 WOL_10_lect_0629 WOL_10_lect_0630 WOL_10_lect_0632 WOL_10_lect_0633 WOL_10_lect_0634 WOL_10_lect_0638 WOL_10_lect_0640 WOL_10_lect_0646 WOL_10_lect_0648 WOL_10_lect_0649 WOL_10_lect_0650 WOL_10_lect_0651 WOL_10_lect_0652 WOL_10_lect_0653 WOL_10_lect_0655 WOL_10_lect_0656 WOL_10_lect_0657 WOL_10_lect_0658 WOL_10_lect_0659 WOL_10_lect_0660 WOL_10_lect_0662 WOL_10_lect_0663 WOL_10_lect_0664 WOL_10_lect_0665 WOL_10_lect_0666 WOL_10_lect_0667 WOL_10_lect_0669 WOL_10_lect_0670 WOL_10_lect_0674 WOL_10_lect_0676 WOL_10_lect_0677 WOL_10_lect_0679 WOL_10_lect_0681 WOL_10_lect_0683 WOL_10_lect_0685 WOL_10_lect_0686 WOL_10_lect_0691 WOL_10_lect_0694 WOL_10_lect_0695 WOL_10_lect_0697 WOL_10_lect_0698 WOL_10_lect_0700 WOL_10_lect_0702 WOL_10_lect_0703 WOL_10_lect_0704 WOL_10_lect_0705 WOL_10_lect_0706 WOL_10_lect_0707 WOL_10_lect_0710 WOL_10_lect_0711 WOL_10_lect_0714 WOL_10_lect_0717 WOL_10_lect_0718 WOL_10_lect_0719 WOL_10_lect_0721 WOL_10_lect_0724 WOL_10_lect_0725 WOL_10_lect_0726 WOL_10_lect_0727 WOL_10_lect_0729 WOL_10_lect_0730 WOL_10_lect_0731 WOL_10_lect_0734 WOL_10_lect_0735 WOL_10_lect_0736 WOL_10_lect_0738 WOL_10_lect_0739 WOL_10_lect_0741 WOL_10_lect_0746 WOL_10_lect_0747 WOL_10_lect_0748 WOL_10_lect_0753 WOL_10_lect_0754 WOL_10_lect_0757 WOL_10_lect_0758 WOL_10_lect_0761 WOL_10_lect_0763 WOL_10_lect_0767 WOL_10_lect_0771 WOL_10_lect_0776 WOL_10_lect_0777 WOL_10_lect_0779 WOL_10_lect_0780 WOL_10_lect_0781 WOL_10_lect_0782 WOL_10_lect_0783 WOL_10_lect_0785 WOL_10_lect_0787 WOL_10_lect_0790 WOL_10_lect_0791 WOL_10_lect_0796 WOL_10_lect_0798 WOL_10_lect_0800 WOL_10_lect_0805 WOL_10_lect_0806 WOL_10_lect_0807 WOL_10_lect_0808 WOL_10_lect_0809 WOL_10_lect_0811 WOL_10_lect_0812 WOL_10_lect_0813 WOL_10_lect_0817 WOL_10_lect_0819 WOL_10_lect_0820 WOL_10_lect_0822 WOL_10_lect_0824 WOL_10_lect_0826 WOL_10_lect_0828 WOL_10_lect_0829 WOL_10_lect_0830 WOL_10_lect_0832 WOL_10_lect_0834 WOL_10_lect_0835 WOL_10_lect_0836 WOL_10_lect_0837 WOL_10_lect_0838 WOL_10_lect_0839 WOL_10_lect_0841 WOL_10_lect_0842 WOL_10_lect_0843 WOL_10_lect_0844 WOL_10_lect_0845 WOL_10_lect_0847 WOL_10_lect_0850 WOL_10_lect_0851 WOL_10_lect_0856 WOL_10_lect_0857 WOL_10_lect_0860 WOL_10_lect_0861 WOL_10_lect_0864 WOL_10_lect_0867 WOL_10_lect_0868 WOL_10_lect_0869 WOL_10_lect_0870 WOL_10_lect_0873 WOL_10_lect_0875 WOL_10_lect_0878 WOL_10_lect_0879 WOL_10_lect_0880 WOL_10_lect_0883 WOL_10_lect_0884 WOL_10_lect_0886 WOL_10_lect_0888 WOL_10_lect_0889 WOL_10_lect_0890 WOL_10_lect_0891 WOL_10_lect_0896 WOL_10_lect_0897 WOL_10_lect_0900 WOL_10_lect_0903 WOL_10_lect_0905 WOL_10_lect_0906 WOL_10_lect_0908 WOL_10_lect_0909 WOL_10_lect_0910 WOL_10_lect_0911 WOL_10_lect_0913 WOL_10_lect_0916 WOL_10_lect_0917 WOL_10_lect_0918 WOL_10_lect_0920 WOL_10_lect_0921 WOL_10_lect_0922 WOL_10_lect_0924 WOL_10_lect_0925 WOL_10_lect_0926 WOL_10_lect_0928 WOL_10_lect_0929 WOL_10_lect_0933 WOL_10_lect_0935 WOL_10_lect_0937 WOL_10_lect_0938 WOL_10_lect_0940 WOL_10_lect_0941 WOL_10_lect_0942 WOL_10_lect_0946 WOL_10_lect_0947 WOL_10_lect_0948 WOL_10_lect_0949 WOL_10_lect_0950 WOL_10_lect_0952 WOL_10_lect_0953 WOL_10_lect_0954 WOL_10_lect_0955 WOL_10_lect_0956 WOL_10_lect_0957 WOL_10_lect_0958 WOL_10_lect_0960 WOL_10_lect_0961 WOL_10_lect_0963 WOL_10_lect_0964 WOL_10_lect_0967 WOL_10_lect_0968 WOL_10_lect_0969 WOL_10_lect_0970 WOL_10_lect_0971 WOL_10_lect_0975 WOL_10_lect_0976 WOL_10_lect_0977 WOL_10_lect_0979 WOL_10_lect_0983 WOL_10_lect_0984 WOL_10_lect_0985 WOL_10_lect_0986 WOL_10_lect_0987 WOL_10_lect_0988 WOL_10_lect_0989 WOL_10_lect_0990 WOL_10_lect_0991 WOL_10_lect_0992 WOL_10_lect_0993 WOL_10_lect_0994 WOL_10_lect_0995 WOL_10_lect_0996\r\n"
     ]
    }
   ],
   "source": [
    "!head data/test/spk2utt"
   ]
  },
  {
   "cell_type": "markdown",
   "id": "281102e7",
   "metadata": {},
   "source": [
    "### Modification du script 02_lexicon.sh\n",
    "Ce script va générer des fichiers qui seront utiles à la création des modèles phonétiques.\n",
    " - Modifier les **lignes 9, 10, 13 et 22** :\n",
    "```bash\n",
    "mkdir -p $WORKING_DIR/data/local/dict\n",
    "pushd $WORKING_DIR/data/local/dict\n",
    "cat $LEXICON_FILE | awk '{for (i=2;i<=NF;i++) print $i}' | sort -u > nonsilence_phones.txt\n",
    "cat $LEXICON_FILE | sed 's/(.)//' > lexicon.txt\n",
    "```"
   ]
  },
  {
   "cell_type": "code",
   "execution_count": 57,
   "id": "de413121",
   "metadata": {
    "ExecuteTime": {
     "end_time": "2022-04-22T00:19:49.169326Z",
     "start_time": "2022-04-22T00:19:49.049820Z"
    }
   },
   "outputs": [
    {
     "name": "stdout",
     "output_type": "stream",
     "text": [
      "/home/gwmf9814/expes/scripts/notebooks/contribuling2022/kaldi_wolof_asr\r\n"
     ]
    }
   ],
   "source": [
    "!pwd"
   ]
  },
  {
   "cell_type": "code",
   "execution_count": 58,
   "id": "17fb9ef3",
   "metadata": {
    "ExecuteTime": {
     "end_time": "2022-04-22T00:20:47.142369Z",
     "start_time": "2022-04-22T00:20:46.954442Z"
    }
   },
   "outputs": [
    {
     "name": "stdout",
     "output_type": "stream",
     "text": [
      "~/expes/scripts/notebooks/contribuling2022/kaldi_wolof_asr/data/local/dict ~/expes/scripts/notebooks/contribuling2022/kaldi_wolof_asr\n",
      "~/expes/scripts/notebooks/contribuling2022/kaldi_wolof_asr\n"
     ]
    }
   ],
   "source": [
    "%%bash\n",
    "##\n",
    "# Create and prepare the dict/ directory\n",
    "# Once the script ran, dict/ directory will contain:\n",
    "# lexicon.txt, nonsilence_phones, silence_phones.txt, optional_silence.txt\n",
    "##\n",
    "WORKING_DIR=`pwd`\n",
    "LEXICON_FILE=$WORKING_DIR/raw/lexicon/lexicon.txt\n",
    "\n",
    "mkdir -p $WORKING_DIR/data/local/dict\n",
    "\n",
    "pushd $WORKING_DIR/data/local/dict\n",
    "\n",
    "##create nonsilence_phones.txt\n",
    "cat $LEXICON_FILE | awk '{for (i=2;i<=NF;i++) print $i}' | sort -u > nonsilence_phones.txt\n",
    "\n",
    "##create silence_phones.txt\n",
    "echo \"SIL\" > silence_phones.txt\n",
    "##extra_questions.txt\n",
    "touch extra_questions.txt\n",
    "\n",
    "##lexicon.txt\n",
    "rm -f lexicon.txt # if run twice, don't append to old one\n",
    "cat $LEXICON_FILE | sed 's/(.)//' > lexicon.txt\n",
    "\n",
    "##write UNK symbol\n",
    "echo -e \"SIL\\tSIL\" >> lexicon.txt\n",
    "echo -e \"<UNK>\\tSIL\" >> lexicon.txt\n",
    "echo \"SIL\" > optional_silence.txt\n",
    "\n",
    "popd \n"
   ]
  },
  {
   "cell_type": "markdown",
   "id": "b1e19758",
   "metadata": {},
   "source": [
    "#### Prepare lang/ directory\n",
    "\n",
    "La ligne suivante permet de générer des fichiers en relation avec le dictionnaire de prononciation, la relation entre les phonèmes, et permet de créer un modèle de prononciation (dans le fichier L.fst).\n",
    "Plus de détails ici : https://kaldi-asr.org/doc/data_prep.html#data_prep_lang\n",
    "\n",
    "```bash\n",
    "utils/prepare_lang.sh data/local/dict \"<UNK>\" data/local/lang data/lang\n",
    "```\n"
   ]
  },
  {
   "cell_type": "code",
   "execution_count": 100,
   "id": "aca5c1af",
   "metadata": {
    "ExecuteTime": {
     "end_time": "2022-04-22T01:40:53.523544Z",
     "start_time": "2022-04-22T01:40:42.367237Z"
    }
   },
   "outputs": [
    {
     "name": "stdout",
     "output_type": "stream",
     "text": [
      "utils/prepare_lang.sh /home/gwmf9814/expes/scripts/notebooks/contribuling2022/kaldi_wolof_asr/data/local/dict <UNK> /home/gwmf9814/expes/scripts/notebooks/contribuling2022/kaldi_wolof_asr/data/local/lang /home/gwmf9814/expes/scripts/notebooks/contribuling2022/kaldi_wolof_asr/data/lang\n",
      "Checking /home/gwmf9814/expes/scripts/notebooks/contribuling2022/kaldi_wolof_asr/data/local/dict/silence_phones.txt ...\n",
      "--> reading /home/gwmf9814/expes/scripts/notebooks/contribuling2022/kaldi_wolof_asr/data/local/dict/silence_phones.txt\n",
      "--> text seems to be UTF-8 or ASCII, checking whitespaces\n",
      "--> text contains only allowed whitespaces\n",
      "--> /home/gwmf9814/expes/scripts/notebooks/contribuling2022/kaldi_wolof_asr/data/local/dict/silence_phones.txt is OK\n",
      "\n",
      "Checking /home/gwmf9814/expes/scripts/notebooks/contribuling2022/kaldi_wolof_asr/data/local/dict/optional_silence.txt ...\n",
      "--> reading /home/gwmf9814/expes/scripts/notebooks/contribuling2022/kaldi_wolof_asr/data/local/dict/optional_silence.txt\n",
      "--> text seems to be UTF-8 or ASCII, checking whitespaces\n",
      "--> text contains only allowed whitespaces\n",
      "--> /home/gwmf9814/expes/scripts/notebooks/contribuling2022/kaldi_wolof_asr/data/local/dict/optional_silence.txt is OK\n",
      "\n",
      "Checking /home/gwmf9814/expes/scripts/notebooks/contribuling2022/kaldi_wolof_asr/data/local/dict/nonsilence_phones.txt ...\n",
      "--> reading /home/gwmf9814/expes/scripts/notebooks/contribuling2022/kaldi_wolof_asr/data/local/dict/nonsilence_phones.txt\n",
      "--> text seems to be UTF-8 or ASCII, checking whitespaces\n",
      "--> text contains only allowed whitespaces\n",
      "--> /home/gwmf9814/expes/scripts/notebooks/contribuling2022/kaldi_wolof_asr/data/local/dict/nonsilence_phones.txt is OK\n",
      "\n",
      "Checking disjoint: silence_phones.txt, nonsilence_phones.txt\n",
      "--> disjoint property is OK.\n",
      "\n",
      "Checking /home/gwmf9814/expes/scripts/notebooks/contribuling2022/kaldi_wolof_asr/data/local/dict/lexicon.txt\n",
      "--> reading /home/gwmf9814/expes/scripts/notebooks/contribuling2022/kaldi_wolof_asr/data/local/dict/lexicon.txt\n",
      "--> text seems to be UTF-8 or ASCII, checking whitespaces\n",
      "--> text contains only allowed whitespaces\n",
      "--> /home/gwmf9814/expes/scripts/notebooks/contribuling2022/kaldi_wolof_asr/data/local/dict/lexicon.txt is OK\n",
      "\n",
      "Checking /home/gwmf9814/expes/scripts/notebooks/contribuling2022/kaldi_wolof_asr/data/local/dict/lexiconp.txt\n",
      "--> reading /home/gwmf9814/expes/scripts/notebooks/contribuling2022/kaldi_wolof_asr/data/local/dict/lexiconp.txt\n",
      "--> text seems to be UTF-8 or ASCII, checking whitespaces\n",
      "--> text contains only allowed whitespaces\n",
      "--> /home/gwmf9814/expes/scripts/notebooks/contribuling2022/kaldi_wolof_asr/data/local/dict/lexiconp.txt is OK\n",
      "\n",
      "Checking lexicon pair /home/gwmf9814/expes/scripts/notebooks/contribuling2022/kaldi_wolof_asr/data/local/dict/lexicon.txt and /home/gwmf9814/expes/scripts/notebooks/contribuling2022/kaldi_wolof_asr/data/local/dict/lexiconp.txt\n",
      "--> lexicon pair /home/gwmf9814/expes/scripts/notebooks/contribuling2022/kaldi_wolof_asr/data/local/dict/lexicon.txt and /home/gwmf9814/expes/scripts/notebooks/contribuling2022/kaldi_wolof_asr/data/local/dict/lexiconp.txt match\n",
      "\n",
      "Checking /home/gwmf9814/expes/scripts/notebooks/contribuling2022/kaldi_wolof_asr/data/local/dict/extra_questions.txt ...\n",
      "--> /home/gwmf9814/expes/scripts/notebooks/contribuling2022/kaldi_wolof_asr/data/local/dict/extra_questions.txt is empty (this is OK)\n",
      "--> SUCCESS [validating dictionary directory /home/gwmf9814/expes/scripts/notebooks/contribuling2022/kaldi_wolof_asr/data/local/dict]\n",
      "\n",
      "prepare_lang.sh: validating output directory\n",
      "utils/validate_lang.pl /home/gwmf9814/expes/scripts/notebooks/contribuling2022/kaldi_wolof_asr/data/lang\n",
      "Checking existence of separator file\n",
      "separator file /home/gwmf9814/expes/scripts/notebooks/contribuling2022/kaldi_wolof_asr/data/lang/subword_separator.txt is empty or does not exist, deal in word case.\n",
      "Checking /home/gwmf9814/expes/scripts/notebooks/contribuling2022/kaldi_wolof_asr/data/lang/phones.txt ...\n",
      "--> text seems to be UTF-8 or ASCII, checking whitespaces\n",
      "--> text contains only allowed whitespaces\n",
      "--> /home/gwmf9814/expes/scripts/notebooks/contribuling2022/kaldi_wolof_asr/data/lang/phones.txt is OK\n",
      "\n",
      "Checking words.txt: #0 ...\n",
      "--> text seems to be UTF-8 or ASCII, checking whitespaces\n",
      "--> text contains only allowed whitespaces\n",
      "--> /home/gwmf9814/expes/scripts/notebooks/contribuling2022/kaldi_wolof_asr/data/lang/words.txt is OK\n",
      "\n",
      "Checking disjoint: silence.txt, nonsilence.txt, disambig.txt ...\n",
      "--> silence.txt and nonsilence.txt are disjoint\n",
      "--> silence.txt and disambig.txt are disjoint\n",
      "--> disambig.txt and nonsilence.txt are disjoint\n",
      "--> disjoint property is OK\n",
      "\n",
      "Checking sumation: silence.txt, nonsilence.txt, disambig.txt ...\n",
      "--> found no unexplainable phones in phones.txt\n",
      "\n",
      "Checking /home/gwmf9814/expes/scripts/notebooks/contribuling2022/kaldi_wolof_asr/data/lang/phones/context_indep.{txt, int, csl} ...\n",
      "--> text seems to be UTF-8 or ASCII, checking whitespaces\n",
      "--> text contains only allowed whitespaces\n",
      "--> 5 entry/entries in /home/gwmf9814/expes/scripts/notebooks/contribuling2022/kaldi_wolof_asr/data/lang/phones/context_indep.txt\n",
      "--> /home/gwmf9814/expes/scripts/notebooks/contribuling2022/kaldi_wolof_asr/data/lang/phones/context_indep.int corresponds to /home/gwmf9814/expes/scripts/notebooks/contribuling2022/kaldi_wolof_asr/data/lang/phones/context_indep.txt\n",
      "--> /home/gwmf9814/expes/scripts/notebooks/contribuling2022/kaldi_wolof_asr/data/lang/phones/context_indep.csl corresponds to /home/gwmf9814/expes/scripts/notebooks/contribuling2022/kaldi_wolof_asr/data/lang/phones/context_indep.txt\n",
      "--> /home/gwmf9814/expes/scripts/notebooks/contribuling2022/kaldi_wolof_asr/data/lang/phones/context_indep.{txt, int, csl} are OK\n",
      "\n",
      "Checking /home/gwmf9814/expes/scripts/notebooks/contribuling2022/kaldi_wolof_asr/data/lang/phones/nonsilence.{txt, int, csl} ...\n",
      "--> text seems to be UTF-8 or ASCII, checking whitespaces\n",
      "--> text contains only allowed whitespaces\n",
      "--> 136 entry/entries in /home/gwmf9814/expes/scripts/notebooks/contribuling2022/kaldi_wolof_asr/data/lang/phones/nonsilence.txt\n",
      "--> /home/gwmf9814/expes/scripts/notebooks/contribuling2022/kaldi_wolof_asr/data/lang/phones/nonsilence.int corresponds to /home/gwmf9814/expes/scripts/notebooks/contribuling2022/kaldi_wolof_asr/data/lang/phones/nonsilence.txt\n",
      "--> /home/gwmf9814/expes/scripts/notebooks/contribuling2022/kaldi_wolof_asr/data/lang/phones/nonsilence.csl corresponds to /home/gwmf9814/expes/scripts/notebooks/contribuling2022/kaldi_wolof_asr/data/lang/phones/nonsilence.txt\n",
      "--> /home/gwmf9814/expes/scripts/notebooks/contribuling2022/kaldi_wolof_asr/data/lang/phones/nonsilence.{txt, int, csl} are OK\n",
      "\n",
      "Checking /home/gwmf9814/expes/scripts/notebooks/contribuling2022/kaldi_wolof_asr/data/lang/phones/silence.{txt, int, csl} ...\n",
      "--> text seems to be UTF-8 or ASCII, checking whitespaces\n",
      "--> text contains only allowed whitespaces\n",
      "--> 5 entry/entries in /home/gwmf9814/expes/scripts/notebooks/contribuling2022/kaldi_wolof_asr/data/lang/phones/silence.txt\n",
      "--> /home/gwmf9814/expes/scripts/notebooks/contribuling2022/kaldi_wolof_asr/data/lang/phones/silence.int corresponds to /home/gwmf9814/expes/scripts/notebooks/contribuling2022/kaldi_wolof_asr/data/lang/phones/silence.txt\n",
      "--> /home/gwmf9814/expes/scripts/notebooks/contribuling2022/kaldi_wolof_asr/data/lang/phones/silence.csl corresponds to /home/gwmf9814/expes/scripts/notebooks/contribuling2022/kaldi_wolof_asr/data/lang/phones/silence.txt\n",
      "--> /home/gwmf9814/expes/scripts/notebooks/contribuling2022/kaldi_wolof_asr/data/lang/phones/silence.{txt, int, csl} are OK\n",
      "\n",
      "Checking /home/gwmf9814/expes/scripts/notebooks/contribuling2022/kaldi_wolof_asr/data/lang/phones/optional_silence.{txt, int, csl} ...\n",
      "--> text seems to be UTF-8 or ASCII, checking whitespaces\n",
      "--> text contains only allowed whitespaces\n",
      "--> 1 entry/entries in /home/gwmf9814/expes/scripts/notebooks/contribuling2022/kaldi_wolof_asr/data/lang/phones/optional_silence.txt\n",
      "--> /home/gwmf9814/expes/scripts/notebooks/contribuling2022/kaldi_wolof_asr/data/lang/phones/optional_silence.int corresponds to /home/gwmf9814/expes/scripts/notebooks/contribuling2022/kaldi_wolof_asr/data/lang/phones/optional_silence.txt\n",
      "--> /home/gwmf9814/expes/scripts/notebooks/contribuling2022/kaldi_wolof_asr/data/lang/phones/optional_silence.csl corresponds to /home/gwmf9814/expes/scripts/notebooks/contribuling2022/kaldi_wolof_asr/data/lang/phones/optional_silence.txt\n",
      "--> /home/gwmf9814/expes/scripts/notebooks/contribuling2022/kaldi_wolof_asr/data/lang/phones/optional_silence.{txt, int, csl} are OK\n",
      "\n",
      "Checking /home/gwmf9814/expes/scripts/notebooks/contribuling2022/kaldi_wolof_asr/data/lang/phones/disambig.{txt, int, csl} ...\n",
      "--> text seems to be UTF-8 or ASCII, checking whitespaces\n",
      "--> text contains only allowed whitespaces\n",
      "--> 6 entry/entries in /home/gwmf9814/expes/scripts/notebooks/contribuling2022/kaldi_wolof_asr/data/lang/phones/disambig.txt\n",
      "--> /home/gwmf9814/expes/scripts/notebooks/contribuling2022/kaldi_wolof_asr/data/lang/phones/disambig.int corresponds to /home/gwmf9814/expes/scripts/notebooks/contribuling2022/kaldi_wolof_asr/data/lang/phones/disambig.txt\n",
      "--> /home/gwmf9814/expes/scripts/notebooks/contribuling2022/kaldi_wolof_asr/data/lang/phones/disambig.csl corresponds to /home/gwmf9814/expes/scripts/notebooks/contribuling2022/kaldi_wolof_asr/data/lang/phones/disambig.txt\n",
      "--> /home/gwmf9814/expes/scripts/notebooks/contribuling2022/kaldi_wolof_asr/data/lang/phones/disambig.{txt, int, csl} are OK\n",
      "\n",
      "Checking /home/gwmf9814/expes/scripts/notebooks/contribuling2022/kaldi_wolof_asr/data/lang/phones/roots.{txt, int} ...\n",
      "--> text seems to be UTF-8 or ASCII, checking whitespaces\n",
      "--> text contains only allowed whitespaces\n",
      "--> 35 entry/entries in /home/gwmf9814/expes/scripts/notebooks/contribuling2022/kaldi_wolof_asr/data/lang/phones/roots.txt\n",
      "--> /home/gwmf9814/expes/scripts/notebooks/contribuling2022/kaldi_wolof_asr/data/lang/phones/roots.int corresponds to /home/gwmf9814/expes/scripts/notebooks/contribuling2022/kaldi_wolof_asr/data/lang/phones/roots.txt\n",
      "--> /home/gwmf9814/expes/scripts/notebooks/contribuling2022/kaldi_wolof_asr/data/lang/phones/roots.{txt, int} are OK\n",
      "\n",
      "Checking /home/gwmf9814/expes/scripts/notebooks/contribuling2022/kaldi_wolof_asr/data/lang/phones/sets.{txt, int} ...\n",
      "--> text seems to be UTF-8 or ASCII, checking whitespaces\n",
      "--> text contains only allowed whitespaces\n",
      "--> 35 entry/entries in /home/gwmf9814/expes/scripts/notebooks/contribuling2022/kaldi_wolof_asr/data/lang/phones/sets.txt\n",
      "--> /home/gwmf9814/expes/scripts/notebooks/contribuling2022/kaldi_wolof_asr/data/lang/phones/sets.int corresponds to /home/gwmf9814/expes/scripts/notebooks/contribuling2022/kaldi_wolof_asr/data/lang/phones/sets.txt\n",
      "--> /home/gwmf9814/expes/scripts/notebooks/contribuling2022/kaldi_wolof_asr/data/lang/phones/sets.{txt, int} are OK\n",
      "\n",
      "Checking /home/gwmf9814/expes/scripts/notebooks/contribuling2022/kaldi_wolof_asr/data/lang/phones/extra_questions.{txt, int} ...\n",
      "--> text seems to be UTF-8 or ASCII, checking whitespaces\n",
      "--> text contains only allowed whitespaces\n",
      "--> 9 entry/entries in /home/gwmf9814/expes/scripts/notebooks/contribuling2022/kaldi_wolof_asr/data/lang/phones/extra_questions.txt\n",
      "--> /home/gwmf9814/expes/scripts/notebooks/contribuling2022/kaldi_wolof_asr/data/lang/phones/extra_questions.int corresponds to /home/gwmf9814/expes/scripts/notebooks/contribuling2022/kaldi_wolof_asr/data/lang/phones/extra_questions.txt\n",
      "--> /home/gwmf9814/expes/scripts/notebooks/contribuling2022/kaldi_wolof_asr/data/lang/phones/extra_questions.{txt, int} are OK\n",
      "\n",
      "Checking /home/gwmf9814/expes/scripts/notebooks/contribuling2022/kaldi_wolof_asr/data/lang/phones/word_boundary.{txt, int} ...\n",
      "--> text seems to be UTF-8 or ASCII, checking whitespaces\n",
      "--> text contains only allowed whitespaces\n",
      "--> 141 entry/entries in /home/gwmf9814/expes/scripts/notebooks/contribuling2022/kaldi_wolof_asr/data/lang/phones/word_boundary.txt\n",
      "--> /home/gwmf9814/expes/scripts/notebooks/contribuling2022/kaldi_wolof_asr/data/lang/phones/word_boundary.int corresponds to /home/gwmf9814/expes/scripts/notebooks/contribuling2022/kaldi_wolof_asr/data/lang/phones/word_boundary.txt\n",
      "--> /home/gwmf9814/expes/scripts/notebooks/contribuling2022/kaldi_wolof_asr/data/lang/phones/word_boundary.{txt, int} are OK\n",
      "\n",
      "Checking optional_silence.txt ...\n",
      "--> reading /home/gwmf9814/expes/scripts/notebooks/contribuling2022/kaldi_wolof_asr/data/lang/phones/optional_silence.txt\n",
      "--> /home/gwmf9814/expes/scripts/notebooks/contribuling2022/kaldi_wolof_asr/data/lang/phones/optional_silence.txt is OK\n",
      "\n",
      "Checking disambiguation symbols: #0 and #1\n",
      "--> /home/gwmf9814/expes/scripts/notebooks/contribuling2022/kaldi_wolof_asr/data/lang/phones/disambig.txt has \"#0\" and \"#1\"\n",
      "--> /home/gwmf9814/expes/scripts/notebooks/contribuling2022/kaldi_wolof_asr/data/lang/phones/disambig.txt is OK\n",
      "\n",
      "Checking topo ...\n",
      "\n",
      "Checking word_boundary.txt: silence.txt, nonsilence.txt, disambig.txt ...\n",
      "--> /home/gwmf9814/expes/scripts/notebooks/contribuling2022/kaldi_wolof_asr/data/lang/phones/word_boundary.txt doesn't include disambiguation symbols\n",
      "--> /home/gwmf9814/expes/scripts/notebooks/contribuling2022/kaldi_wolof_asr/data/lang/phones/word_boundary.txt is the union of nonsilence.txt and silence.txt\n",
      "--> /home/gwmf9814/expes/scripts/notebooks/contribuling2022/kaldi_wolof_asr/data/lang/phones/word_boundary.txt is OK\n",
      "\n",
      "Checking word-level disambiguation symbols...\n",
      "--> /home/gwmf9814/expes/scripts/notebooks/contribuling2022/kaldi_wolof_asr/data/lang/phones/wdisambig.txt exists (newer prepare_lang.sh)\n",
      "Checking word_boundary.int and disambig.int\n",
      "--> generating a 31 word/subword sequence\n",
      "--> resulting phone sequence from L.fst corresponds to the word sequence\n",
      "--> L.fst is OK\n",
      "--> generating a 16 word/subword sequence\n",
      "--> resulting phone sequence from L_disambig.fst corresponds to the word sequence\n",
      "--> L_disambig.fst is OK\n",
      "\n",
      "Checking /home/gwmf9814/expes/scripts/notebooks/contribuling2022/kaldi_wolof_asr/data/lang/oov.{txt, int} ...\n",
      "--> text seems to be UTF-8 or ASCII, checking whitespaces\n",
      "--> text contains only allowed whitespaces\n",
      "--> 1 entry/entries in /home/gwmf9814/expes/scripts/notebooks/contribuling2022/kaldi_wolof_asr/data/lang/oov.txt\n",
      "--> /home/gwmf9814/expes/scripts/notebooks/contribuling2022/kaldi_wolof_asr/data/lang/oov.int corresponds to /home/gwmf9814/expes/scripts/notebooks/contribuling2022/kaldi_wolof_asr/data/lang/oov.txt\n",
      "--> /home/gwmf9814/expes/scripts/notebooks/contribuling2022/kaldi_wolof_asr/data/lang/oov.{txt, int} are OK\n",
      "\n",
      "--> /home/gwmf9814/expes/scripts/notebooks/contribuling2022/kaldi_wolof_asr/data/lang/L.fst is olabel sorted\n",
      "--> /home/gwmf9814/expes/scripts/notebooks/contribuling2022/kaldi_wolof_asr/data/lang/L_disambig.fst is olabel sorted\n",
      "--> /home/gwmf9814/expes/scripts/notebooks/contribuling2022/kaldi_wolof_asr/data/lang/G.fst is ilabel sorted\n",
      "--> /home/gwmf9814/expes/scripts/notebooks/contribuling2022/kaldi_wolof_asr/data/lang/G.fst has 240370 states\n",
      "--> /home/gwmf9814/expes/scripts/notebooks/contribuling2022/kaldi_wolof_asr/data/lang/G.fst is determinizable\n",
      "--> utils/lang/check_g_properties.pl successfully validated /home/gwmf9814/expes/scripts/notebooks/contribuling2022/kaldi_wolof_asr/data/lang/G.fst\n",
      "--> utils/lang/check_g_properties.pl succeeded.\n",
      "--> Testing determinizability of L_disambig . G\n",
      "--> L_disambig . G is determinizable\n",
      "--> SUCCESS [validating lang directory /home/gwmf9814/expes/scripts/notebooks/contribuling2022/kaldi_wolof_asr/data/lang]\n"
     ]
    },
    {
     "name": "stderr",
     "output_type": "stream",
     "text": [
      "fstaddselfloops /home/gwmf9814/expes/scripts/notebooks/contribuling2022/kaldi_wolof_asr/data/lang/phones/wdisambig_phones.int /home/gwmf9814/expes/scripts/notebooks/contribuling2022/kaldi_wolof_asr/data/lang/phones/wdisambig_words.int \n",
      "fstdeterminizestar /home/gwmf9814/expes/scripts/notebooks/contribuling2022/kaldi_wolof_asr/data/lang/G.fst /dev/null \n",
      "fstdeterminizestar \n",
      "fsttablecompose /home/gwmf9814/expes/scripts/notebooks/contribuling2022/kaldi_wolof_asr/data/lang/L_disambig.fst /home/gwmf9814/expes/scripts/notebooks/contribuling2022/kaldi_wolof_asr/data/lang/G.fst \n"
     ]
    }
   ],
   "source": [
    "%%bash\n",
    "WORKING_DIR=`pwd`\n",
    "source $WORKING_DIR/path.sh\n",
    "utils/prepare_lang.sh $WORKING_DIR/data/local/dict \"<UNK>\" $WORKING_DIR/data/local/lang $WORKING_DIR/data/lang"
   ]
  },
  {
   "cell_type": "markdown",
   "id": "9e80989b",
   "metadata": {},
   "source": [
    "### Modification du script 03_lm_preparation.sh\n",
    "Ce script permet de compiler le graphe pondéré à états finis (WFST) qui modélise la grammaire de la langue à partir du modèle de langue."
   ]
  },
  {
   "cell_type": "code",
   "execution_count": 99,
   "id": "65345e07",
   "metadata": {
    "ExecuteTime": {
     "end_time": "2022-04-22T01:40:24.091177Z",
     "start_time": "2022-04-22T01:40:22.100379Z"
    }
   },
   "outputs": [
    {
     "name": "stderr",
     "output_type": "stream",
     "text": [
      "arpa2fst - \n",
      "LOG (arpa2fst[5.5.983~1-7547a]:Read():arpa-file-parser.cc:94) Reading \\data\\ section.\n",
      "LOG (arpa2fst[5.5.983~1-7547a]:Read():arpa-file-parser.cc:149) Reading \\1-grams: section.\n",
      "LOG (arpa2fst[5.5.983~1-7547a]:Read():arpa-file-parser.cc:149) Reading \\2-grams: section.\n",
      "LOG (arpa2fst[5.5.983~1-7547a]:Read():arpa-file-parser.cc:149) Reading \\3-grams: section.\n",
      "remove_oovs.pl: removed 3511 lines.\n"
     ]
    }
   ],
   "source": [
    "%%bash\n",
    "\n",
    "WORKING_DIR=`pwd`\n",
    "source $WORKING_DIR/path.sh\n",
    "language_model=$WORKING_DIR/raw/language/combineV1-web-W0.9-3gram.arpa\n",
    "\n",
    "#convert ARPA to FST format for Kaldi\n",
    "cat $language_model | utils/find_arpa_oovs.pl $WORKING_DIR/data/lang/words.txt  > $WORKING_DIR/data/local/lang/oovs.txt\n",
    "cat $language_model | \\\n",
    "  grep -v '<s> <s>' | \\\n",
    "  grep -v '</s> <s>' | \\\n",
    "  grep -v '</s> </s>' | \\\n",
    "  arpa2fst - | fstprint | \\\n",
    "  utils/remove_oovs.pl $WORKING_DIR/data/local/lang/oovs.txt | \\\n",
    "  utils/eps2disambig.pl | utils/s2eps.pl | fstcompile --isymbols=$WORKING_DIR/data/lang/words.txt \\\n",
    "  --osymbols=$WORKING_DIR/data/lang/words.txt  --keep_isymbols=false --keep_osymbols=false | \\\n",
    "  fstrmepsilon > $WORKING_DIR/data/lang/G.fst\n",
    "\n",
    "#if prep_lang.sh returns G.fst is not ilabel sorted, run this to sort\n",
    "fstarcsort --sort_type=ilabel $WORKING_DIR/data/lang/G.fst > $WORKING_DIR/data/lang/G_new.fst\n",
    "mv $WORKING_DIR/data/lang/G_new.fst $WORKING_DIR/data/lang/G.fst"
   ]
  },
  {
   "attachments": {},
   "cell_type": "markdown",
   "id": "30a19a6e",
   "metadata": {},
   "source": [
    "### Extraction des paramètres MFCC\n",
    "MFCC = Mel-Frequency Cepstral Coefficients     \n",
    "Les coefficients cepstraux représentent les phonèmes (unités distinctes de son) comme la forme du conduit vocal (qui est responsable de la production du son).    \n",
    "Ce sont les descripteurs les plus couramment extraits dans l'approche traditionnelle.    \n",
    "Pour plus d'infos : https://maelfabien.github.io/machinelearning/Speech9/#6-mel-frequency-cepstral-coefficients-mfcc"
   ]
  },
  {
   "cell_type": "code",
   "execution_count": 103,
   "id": "a2255184",
   "metadata": {
    "ExecuteTime": {
     "end_time": "2022-04-22T01:49:25.739267Z",
     "start_time": "2022-04-22T01:49:23.168798Z"
    }
   },
   "outputs": [
    {
     "name": "stdout",
     "output_type": "stream",
     "text": [
      "compute mfcc for train dev test...\n",
      "steps/make_mfcc.sh /home/gwmf9814/expes/scripts/notebooks/contribuling2022/kaldi_wolof_asr/data/test mfcc_log mfcc\n",
      "utils/validate_data_dir.sh: Successfully validated data-directory /home/gwmf9814/expes/scripts/notebooks/contribuling2022/kaldi_wolof_asr/data/test\n",
      "steps/make_mfcc.sh: [info]: no segments file exists: assuming wav.scp indexed by utterance.\n",
      "steps/make_mfcc.sh: Succeeded creating MFCC features for test\n",
      "MFCCs computation for /home/gwmf9814/expes/scripts/notebooks/contribuling2022/kaldi_wolof_asr/data/test done.\n",
      "\n",
      "steps/compute_cmvn_stats.sh /home/gwmf9814/expes/scripts/notebooks/contribuling2022/kaldi_wolof_asr/data/test mfcc_log mfcc\n",
      "Succeeded creating CMVN stats for test\n",
      "Statistics computation for cepstral mean and variance normalization for /home/gwmf9814/expes/scripts/notebooks/contribuling2022/kaldi_wolof_asr/data/test done.\n",
      "\n",
      "fix_data_dir.sh: kept all 846 utterances.\n",
      "fix_data_dir.sh: old files are kept in /home/gwmf9814/expes/scripts/notebooks/contribuling2022/kaldi_wolof_asr/data/test/.backup\n",
      "compute mfcc done.\n",
      "\n"
     ]
    }
   ],
   "source": [
    "%%bash\n",
    "\n",
    "WORKING_DIR=`pwd`\n",
    "\n",
    "## compute mfcc\n",
    "echo \"compute mfcc for train dev test...\"\n",
    "\n",
    "for dir in $WORKING_DIR/data/test  # data/dev data/train\n",
    "do\n",
    "  steps/make_mfcc.sh $dir mfcc_log mfcc\n",
    "  echo -e \"MFCCs computation for ${dir} done.\\n\"\n",
    "  steps/compute_cmvn_stats.sh $dir mfcc_log mfcc\n",
    "  echo -e \"Statistics computation for cepstral mean and variance normalization for ${dir} done.\\n\"\n",
    "  utils/fix_data_dir.sh $dir\n",
    "done\n",
    "echo -e \"compute mfcc done.\\n\""
   ]
  },
  {
   "cell_type": "markdown",
   "id": "02fee170",
   "metadata": {},
   "source": [
    "### Lancement des phases d'apprentissage et de décodage\n",
    "Il ne reste plus qu'à lancer le script qui permet d'apprendre et de décoder successivement les modèles appris par Kaldi.   \n",
    "Avant toute chose, il faut encore modifier ce script. \n",
    "\n",
    "- Modifier la **ligne** 3 du script ```run.sh``` pour qu'il commence à la phase 1 (la phase 0 correspond à la préparation des données que l'on vient d'effectuer) :\n",
    "```bash\n",
    "stage=1\n",
    "```\n",
    "- Modifier toutes les lignes pour que les algorithmes appellent les bons ensemble de de données\n",
    "Par exemple, **ligne 98**, changer :\n",
    "```\n",
    "data/train_si84_2kshort data/lang_nosp exp/mono0a\n",
    "```\n",
    "par\n",
    "```\n",
    "data/train data/lang exp/mono0a\n",
    "```\n",
    "        \n",
    "     \n",
    "Ensuite vous pourrez lancer le script :\n",
    "```bash\n",
    ". ./run.sh\n",
    "```\n",
    "\n",
    "\n",
    "#### Alternative pour commencer\n",
    "Le dépôt ALFFA propose les scripts un à un pour comprendre les étapes pas à pas.   \n",
    "Voir : https://github.com/getalp/ALFFA_PUBLIC/tree/master/ASR/WOLOF/kaldi-scripts    \n",
    "    \n",
    "La totalité des étapes d'apprentissage et de décodage se trouve également dans un fichier *run.sh* qui est plus adapté aux données ALFFA en wolof.     \n",
    "Il se trouve dans https://github.com/getalp/ALFFA_PUBLIC/tree/master/ASR/WOLOF.\n",
    "\n",
    "**Néanmoins ces scripts ne sont pas les derniers en date proposé par Kaldi.**"
   ]
  }
 ],
 "metadata": {
  "kernelspec": {
   "display_name": "Python 3",
   "language": "python",
   "name": "python3"
  },
  "language_info": {
   "codemirror_mode": {
    "name": "ipython",
    "version": 3
   },
   "file_extension": ".py",
   "mimetype": "text/x-python",
   "name": "python",
   "nbconvert_exporter": "python",
   "pygments_lexer": "ipython3",
   "version": "3.8.8"
  }
 },
 "nbformat": 4,
 "nbformat_minor": 5
}
